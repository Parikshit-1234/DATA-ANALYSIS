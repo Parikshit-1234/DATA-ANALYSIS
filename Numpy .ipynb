{
 "cells": [
  {
   "cell_type": "code",
   "execution_count": 1,
   "id": "3c2b25ba",
   "metadata": {},
   "outputs": [],
   "source": [
    "import pandas as pd"
   ]
  },
  {
   "cell_type": "code",
   "execution_count": 4,
   "id": "8a5a2bb7",
   "metadata": {},
   "outputs": [],
   "source": [
    "data = pd.read_csv(\"D:\\GAME SETUPS\\data.csv\")"
   ]
  },
  {
   "cell_type": "code",
   "execution_count": 5,
   "id": "dd0a99d8",
   "metadata": {},
   "outputs": [
    {
     "data": {
      "text/html": [
       "<div>\n",
       "<style scoped>\n",
       "    .dataframe tbody tr th:only-of-type {\n",
       "        vertical-align: middle;\n",
       "    }\n",
       "\n",
       "    .dataframe tbody tr th {\n",
       "        vertical-align: top;\n",
       "    }\n",
       "\n",
       "    .dataframe thead th {\n",
       "        text-align: right;\n",
       "    }\n",
       "</style>\n",
       "<table border=\"1\" class=\"dataframe\">\n",
       "  <thead>\n",
       "    <tr style=\"text-align: right;\">\n",
       "      <th></th>\n",
       "      <th>Date/Time</th>\n",
       "      <th>Temp_C</th>\n",
       "      <th>Dew Point Temp_C</th>\n",
       "      <th>Rel Hum_%</th>\n",
       "      <th>Wind Speed_km/h</th>\n",
       "      <th>Visibility_km</th>\n",
       "      <th>Press_kPa</th>\n",
       "      <th>Weather</th>\n",
       "    </tr>\n",
       "  </thead>\n",
       "  <tbody>\n",
       "    <tr>\n",
       "      <th>0</th>\n",
       "      <td>1/1/2012 0:00</td>\n",
       "      <td>-1.8</td>\n",
       "      <td>-3.9</td>\n",
       "      <td>86</td>\n",
       "      <td>4</td>\n",
       "      <td>8.0</td>\n",
       "      <td>101.24</td>\n",
       "      <td>Fog</td>\n",
       "    </tr>\n",
       "    <tr>\n",
       "      <th>1</th>\n",
       "      <td>1/1/2012 1:00</td>\n",
       "      <td>-1.8</td>\n",
       "      <td>-3.7</td>\n",
       "      <td>87</td>\n",
       "      <td>4</td>\n",
       "      <td>8.0</td>\n",
       "      <td>101.24</td>\n",
       "      <td>Fog</td>\n",
       "    </tr>\n",
       "    <tr>\n",
       "      <th>2</th>\n",
       "      <td>1/1/2012 2:00</td>\n",
       "      <td>-1.8</td>\n",
       "      <td>-3.4</td>\n",
       "      <td>89</td>\n",
       "      <td>7</td>\n",
       "      <td>4.0</td>\n",
       "      <td>101.26</td>\n",
       "      <td>Freezing Drizzle,Fog</td>\n",
       "    </tr>\n",
       "    <tr>\n",
       "      <th>3</th>\n",
       "      <td>1/1/2012 3:00</td>\n",
       "      <td>-1.5</td>\n",
       "      <td>-3.2</td>\n",
       "      <td>88</td>\n",
       "      <td>6</td>\n",
       "      <td>4.0</td>\n",
       "      <td>101.27</td>\n",
       "      <td>Freezing Drizzle,Fog</td>\n",
       "    </tr>\n",
       "    <tr>\n",
       "      <th>4</th>\n",
       "      <td>1/1/2012 4:00</td>\n",
       "      <td>-1.5</td>\n",
       "      <td>-3.3</td>\n",
       "      <td>88</td>\n",
       "      <td>7</td>\n",
       "      <td>4.8</td>\n",
       "      <td>101.23</td>\n",
       "      <td>Fog</td>\n",
       "    </tr>\n",
       "    <tr>\n",
       "      <th>...</th>\n",
       "      <td>...</td>\n",
       "      <td>...</td>\n",
       "      <td>...</td>\n",
       "      <td>...</td>\n",
       "      <td>...</td>\n",
       "      <td>...</td>\n",
       "      <td>...</td>\n",
       "      <td>...</td>\n",
       "    </tr>\n",
       "    <tr>\n",
       "      <th>8779</th>\n",
       "      <td>12/31/2012 19:00</td>\n",
       "      <td>0.1</td>\n",
       "      <td>-2.7</td>\n",
       "      <td>81</td>\n",
       "      <td>30</td>\n",
       "      <td>9.7</td>\n",
       "      <td>100.13</td>\n",
       "      <td>Snow</td>\n",
       "    </tr>\n",
       "    <tr>\n",
       "      <th>8780</th>\n",
       "      <td>12/31/2012 20:00</td>\n",
       "      <td>0.2</td>\n",
       "      <td>-2.4</td>\n",
       "      <td>83</td>\n",
       "      <td>24</td>\n",
       "      <td>9.7</td>\n",
       "      <td>100.03</td>\n",
       "      <td>Snow</td>\n",
       "    </tr>\n",
       "    <tr>\n",
       "      <th>8781</th>\n",
       "      <td>12/31/2012 21:00</td>\n",
       "      <td>-0.5</td>\n",
       "      <td>-1.5</td>\n",
       "      <td>93</td>\n",
       "      <td>28</td>\n",
       "      <td>4.8</td>\n",
       "      <td>99.95</td>\n",
       "      <td>Snow</td>\n",
       "    </tr>\n",
       "    <tr>\n",
       "      <th>8782</th>\n",
       "      <td>12/31/2012 22:00</td>\n",
       "      <td>-0.2</td>\n",
       "      <td>-1.8</td>\n",
       "      <td>89</td>\n",
       "      <td>28</td>\n",
       "      <td>9.7</td>\n",
       "      <td>99.91</td>\n",
       "      <td>Snow</td>\n",
       "    </tr>\n",
       "    <tr>\n",
       "      <th>8783</th>\n",
       "      <td>12/31/2012 23:00</td>\n",
       "      <td>0.0</td>\n",
       "      <td>-2.1</td>\n",
       "      <td>86</td>\n",
       "      <td>30</td>\n",
       "      <td>11.3</td>\n",
       "      <td>99.89</td>\n",
       "      <td>Snow</td>\n",
       "    </tr>\n",
       "  </tbody>\n",
       "</table>\n",
       "<p>8784 rows × 8 columns</p>\n",
       "</div>"
      ],
      "text/plain": [
       "             Date/Time  Temp_C  Dew Point Temp_C  Rel Hum_%  Wind Speed_km/h  \\\n",
       "0        1/1/2012 0:00    -1.8              -3.9         86                4   \n",
       "1        1/1/2012 1:00    -1.8              -3.7         87                4   \n",
       "2        1/1/2012 2:00    -1.8              -3.4         89                7   \n",
       "3        1/1/2012 3:00    -1.5              -3.2         88                6   \n",
       "4        1/1/2012 4:00    -1.5              -3.3         88                7   \n",
       "...                ...     ...               ...        ...              ...   \n",
       "8779  12/31/2012 19:00     0.1              -2.7         81               30   \n",
       "8780  12/31/2012 20:00     0.2              -2.4         83               24   \n",
       "8781  12/31/2012 21:00    -0.5              -1.5         93               28   \n",
       "8782  12/31/2012 22:00    -0.2              -1.8         89               28   \n",
       "8783  12/31/2012 23:00     0.0              -2.1         86               30   \n",
       "\n",
       "      Visibility_km  Press_kPa               Weather  \n",
       "0               8.0     101.24                   Fog  \n",
       "1               8.0     101.24                   Fog  \n",
       "2               4.0     101.26  Freezing Drizzle,Fog  \n",
       "3               4.0     101.27  Freezing Drizzle,Fog  \n",
       "4               4.8     101.23                   Fog  \n",
       "...             ...        ...                   ...  \n",
       "8779            9.7     100.13                  Snow  \n",
       "8780            9.7     100.03                  Snow  \n",
       "8781            4.8      99.95                  Snow  \n",
       "8782            9.7      99.91                  Snow  \n",
       "8783           11.3      99.89                  Snow  \n",
       "\n",
       "[8784 rows x 8 columns]"
      ]
     },
     "execution_count": 5,
     "metadata": {},
     "output_type": "execute_result"
    }
   ],
   "source": [
    "data"
   ]
  },
  {
   "cell_type": "code",
   "execution_count": 10,
   "id": "7fa4ddac",
   "metadata": {},
   "outputs": [
    {
     "data": {
      "text/html": [
       "<div>\n",
       "<style scoped>\n",
       "    .dataframe tbody tr th:only-of-type {\n",
       "        vertical-align: middle;\n",
       "    }\n",
       "\n",
       "    .dataframe tbody tr th {\n",
       "        vertical-align: top;\n",
       "    }\n",
       "\n",
       "    .dataframe thead th {\n",
       "        text-align: right;\n",
       "    }\n",
       "</style>\n",
       "<table border=\"1\" class=\"dataframe\">\n",
       "  <thead>\n",
       "    <tr style=\"text-align: right;\">\n",
       "      <th></th>\n",
       "      <th>Date/Time</th>\n",
       "      <th>Temp_C</th>\n",
       "      <th>Dew Point Temp_C</th>\n",
       "      <th>Rel Hum_%</th>\n",
       "      <th>Wind Speed_km/h</th>\n",
       "      <th>Visibility_km</th>\n",
       "      <th>Press_kPa</th>\n",
       "      <th>Weather</th>\n",
       "    </tr>\n",
       "  </thead>\n",
       "  <tbody>\n",
       "    <tr>\n",
       "      <th>0</th>\n",
       "      <td>1/1/2012 0:00</td>\n",
       "      <td>-1.8</td>\n",
       "      <td>-3.9</td>\n",
       "      <td>86</td>\n",
       "      <td>4</td>\n",
       "      <td>8.0</td>\n",
       "      <td>101.24</td>\n",
       "      <td>Fog</td>\n",
       "    </tr>\n",
       "    <tr>\n",
       "      <th>1</th>\n",
       "      <td>1/1/2012 1:00</td>\n",
       "      <td>-1.8</td>\n",
       "      <td>-3.7</td>\n",
       "      <td>87</td>\n",
       "      <td>4</td>\n",
       "      <td>8.0</td>\n",
       "      <td>101.24</td>\n",
       "      <td>Fog</td>\n",
       "    </tr>\n",
       "    <tr>\n",
       "      <th>2</th>\n",
       "      <td>1/1/2012 2:00</td>\n",
       "      <td>-1.8</td>\n",
       "      <td>-3.4</td>\n",
       "      <td>89</td>\n",
       "      <td>7</td>\n",
       "      <td>4.0</td>\n",
       "      <td>101.26</td>\n",
       "      <td>Freezing Drizzle,Fog</td>\n",
       "    </tr>\n",
       "    <tr>\n",
       "      <th>3</th>\n",
       "      <td>1/1/2012 3:00</td>\n",
       "      <td>-1.5</td>\n",
       "      <td>-3.2</td>\n",
       "      <td>88</td>\n",
       "      <td>6</td>\n",
       "      <td>4.0</td>\n",
       "      <td>101.27</td>\n",
       "      <td>Freezing Drizzle,Fog</td>\n",
       "    </tr>\n",
       "    <tr>\n",
       "      <th>4</th>\n",
       "      <td>1/1/2012 4:00</td>\n",
       "      <td>-1.5</td>\n",
       "      <td>-3.3</td>\n",
       "      <td>88</td>\n",
       "      <td>7</td>\n",
       "      <td>4.8</td>\n",
       "      <td>101.23</td>\n",
       "      <td>Fog</td>\n",
       "    </tr>\n",
       "    <tr>\n",
       "      <th>5</th>\n",
       "      <td>1/1/2012 5:00</td>\n",
       "      <td>-1.4</td>\n",
       "      <td>-3.3</td>\n",
       "      <td>87</td>\n",
       "      <td>9</td>\n",
       "      <td>6.4</td>\n",
       "      <td>101.27</td>\n",
       "      <td>Fog</td>\n",
       "    </tr>\n",
       "    <tr>\n",
       "      <th>6</th>\n",
       "      <td>1/1/2012 6:00</td>\n",
       "      <td>-1.5</td>\n",
       "      <td>-3.1</td>\n",
       "      <td>89</td>\n",
       "      <td>7</td>\n",
       "      <td>6.4</td>\n",
       "      <td>101.29</td>\n",
       "      <td>Fog</td>\n",
       "    </tr>\n",
       "    <tr>\n",
       "      <th>7</th>\n",
       "      <td>1/1/2012 7:00</td>\n",
       "      <td>-1.4</td>\n",
       "      <td>-3.6</td>\n",
       "      <td>85</td>\n",
       "      <td>7</td>\n",
       "      <td>8.0</td>\n",
       "      <td>101.26</td>\n",
       "      <td>Fog</td>\n",
       "    </tr>\n",
       "    <tr>\n",
       "      <th>8</th>\n",
       "      <td>1/1/2012 8:00</td>\n",
       "      <td>-1.4</td>\n",
       "      <td>-3.6</td>\n",
       "      <td>85</td>\n",
       "      <td>9</td>\n",
       "      <td>8.0</td>\n",
       "      <td>101.23</td>\n",
       "      <td>Fog</td>\n",
       "    </tr>\n",
       "    <tr>\n",
       "      <th>9</th>\n",
       "      <td>1/1/2012 9:00</td>\n",
       "      <td>-1.3</td>\n",
       "      <td>-3.1</td>\n",
       "      <td>88</td>\n",
       "      <td>15</td>\n",
       "      <td>4.0</td>\n",
       "      <td>101.20</td>\n",
       "      <td>Fog</td>\n",
       "    </tr>\n",
       "  </tbody>\n",
       "</table>\n",
       "</div>"
      ],
      "text/plain": [
       "       Date/Time  Temp_C  Dew Point Temp_C  Rel Hum_%  Wind Speed_km/h  \\\n",
       "0  1/1/2012 0:00    -1.8              -3.9         86                4   \n",
       "1  1/1/2012 1:00    -1.8              -3.7         87                4   \n",
       "2  1/1/2012 2:00    -1.8              -3.4         89                7   \n",
       "3  1/1/2012 3:00    -1.5              -3.2         88                6   \n",
       "4  1/1/2012 4:00    -1.5              -3.3         88                7   \n",
       "5  1/1/2012 5:00    -1.4              -3.3         87                9   \n",
       "6  1/1/2012 6:00    -1.5              -3.1         89                7   \n",
       "7  1/1/2012 7:00    -1.4              -3.6         85                7   \n",
       "8  1/1/2012 8:00    -1.4              -3.6         85                9   \n",
       "9  1/1/2012 9:00    -1.3              -3.1         88               15   \n",
       "\n",
       "   Visibility_km  Press_kPa               Weather  \n",
       "0            8.0     101.24                   Fog  \n",
       "1            8.0     101.24                   Fog  \n",
       "2            4.0     101.26  Freezing Drizzle,Fog  \n",
       "3            4.0     101.27  Freezing Drizzle,Fog  \n",
       "4            4.8     101.23                   Fog  \n",
       "5            6.4     101.27                   Fog  \n",
       "6            6.4     101.29                   Fog  \n",
       "7            8.0     101.26                   Fog  \n",
       "8            8.0     101.23                   Fog  \n",
       "9            4.0     101.20                   Fog  "
      ]
     },
     "execution_count": 10,
     "metadata": {},
     "output_type": "execute_result"
    }
   ],
   "source": [
    "data.head(10)"
   ]
  },
  {
   "cell_type": "code",
   "execution_count": 9,
   "id": "bb2ba0b6",
   "metadata": {},
   "outputs": [
    {
     "data": {
      "text/plain": [
       "(8784, 8)"
      ]
     },
     "execution_count": 9,
     "metadata": {},
     "output_type": "execute_result"
    }
   ],
   "source": [
    "data.shape"
   ]
  },
  {
   "cell_type": "code",
   "execution_count": 11,
   "id": "ac5ccf56",
   "metadata": {},
   "outputs": [
    {
     "data": {
      "text/plain": [
       "RangeIndex(start=0, stop=8784, step=1)"
      ]
     },
     "execution_count": 11,
     "metadata": {},
     "output_type": "execute_result"
    }
   ],
   "source": [
    "data.index"
   ]
  },
  {
   "cell_type": "code",
   "execution_count": 12,
   "id": "d55734ce",
   "metadata": {},
   "outputs": [
    {
     "data": {
      "text/plain": [
       "Index(['Date/Time', 'Temp_C', 'Dew Point Temp_C', 'Rel Hum_%',\n",
       "       'Wind Speed_km/h', 'Visibility_km', 'Press_kPa', 'Weather'],\n",
       "      dtype='object')"
      ]
     },
     "execution_count": 12,
     "metadata": {},
     "output_type": "execute_result"
    }
   ],
   "source": [
    "data.columns"
   ]
  },
  {
   "cell_type": "code",
   "execution_count": 13,
   "id": "24caee85",
   "metadata": {},
   "outputs": [],
   "source": [
    "l = list(data.columns)"
   ]
  },
  {
   "cell_type": "code",
   "execution_count": 14,
   "id": "19a44c55",
   "metadata": {},
   "outputs": [
    {
     "data": {
      "text/plain": [
       "['Date/Time',\n",
       " 'Temp_C',\n",
       " 'Dew Point Temp_C',\n",
       " 'Rel Hum_%',\n",
       " 'Wind Speed_km/h',\n",
       " 'Visibility_km',\n",
       " 'Press_kPa',\n",
       " 'Weather']"
      ]
     },
     "execution_count": 14,
     "metadata": {},
     "output_type": "execute_result"
    }
   ],
   "source": [
    "l"
   ]
  },
  {
   "cell_type": "code",
   "execution_count": 18,
   "id": "1af2ce2a",
   "metadata": {},
   "outputs": [
    {
     "ename": "AttributeError",
     "evalue": "'list' object has no attribute 'max'",
     "output_type": "error",
     "traceback": [
      "\u001b[1;31m---------------------------------------------------------------------------\u001b[0m",
      "\u001b[1;31mAttributeError\u001b[0m                            Traceback (most recent call last)",
      "Cell \u001b[1;32mIn [18], line 1\u001b[0m\n\u001b[1;32m----> 1\u001b[0m \u001b[43ml\u001b[49m\u001b[38;5;241;43m.\u001b[39;49m\u001b[43mmax\u001b[49m()\n",
      "\u001b[1;31mAttributeError\u001b[0m: 'list' object has no attribute 'max'"
     ]
    }
   ],
   "source": [
    "l.max()"
   ]
  },
  {
   "cell_type": "code",
   "execution_count": 19,
   "id": "7c7f6254",
   "metadata": {},
   "outputs": [
    {
     "name": "stdout",
     "output_type": "stream",
     "text": [
      "Date/Time\n",
      "Temp_C\n",
      "Dew Point Temp_C\n",
      "Rel Hum_%\n",
      "Wind Speed_km/h\n",
      "Visibility_km\n",
      "Press_kPa\n",
      "Weather\n"
     ]
    }
   ],
   "source": [
    "for i in l:\n",
    "    print(i)"
   ]
  },
  {
   "cell_type": "code",
   "execution_count": 20,
   "id": "0150513f",
   "metadata": {},
   "outputs": [
    {
     "data": {
      "text/plain": [
       "Date/Time            object\n",
       "Temp_C              float64\n",
       "Dew Point Temp_C    float64\n",
       "Rel Hum_%             int64\n",
       "Wind Speed_km/h       int64\n",
       "Visibility_km       float64\n",
       "Press_kPa           float64\n",
       "Weather              object\n",
       "dtype: object"
      ]
     },
     "execution_count": 20,
     "metadata": {},
     "output_type": "execute_result"
    }
   ],
   "source": [
    "data.dtypes"
   ]
  },
  {
   "cell_type": "code",
   "execution_count": 21,
   "id": "e8d08ed0",
   "metadata": {},
   "outputs": [
    {
     "ename": "AttributeError",
     "evalue": "'DataFrame' object has no attribute 'unique'",
     "output_type": "error",
     "traceback": [
      "\u001b[1;31m---------------------------------------------------------------------------\u001b[0m",
      "\u001b[1;31mAttributeError\u001b[0m                            Traceback (most recent call last)",
      "Cell \u001b[1;32mIn [21], line 1\u001b[0m\n\u001b[1;32m----> 1\u001b[0m \u001b[43mdata\u001b[49m\u001b[38;5;241;43m.\u001b[39;49m\u001b[43munique\u001b[49m\n",
      "File \u001b[1;32mc:\\users\\user\\appdata\\local\\programs\\python\\python310\\lib\\site-packages\\pandas\\core\\generic.py:5902\u001b[0m, in \u001b[0;36mNDFrame.__getattr__\u001b[1;34m(self, name)\u001b[0m\n\u001b[0;32m   5895\u001b[0m \u001b[38;5;28;01mif\u001b[39;00m (\n\u001b[0;32m   5896\u001b[0m     name \u001b[38;5;129;01mnot\u001b[39;00m \u001b[38;5;129;01min\u001b[39;00m \u001b[38;5;28mself\u001b[39m\u001b[38;5;241m.\u001b[39m_internal_names_set\n\u001b[0;32m   5897\u001b[0m     \u001b[38;5;129;01mand\u001b[39;00m name \u001b[38;5;129;01mnot\u001b[39;00m \u001b[38;5;129;01min\u001b[39;00m \u001b[38;5;28mself\u001b[39m\u001b[38;5;241m.\u001b[39m_metadata\n\u001b[0;32m   5898\u001b[0m     \u001b[38;5;129;01mand\u001b[39;00m name \u001b[38;5;129;01mnot\u001b[39;00m \u001b[38;5;129;01min\u001b[39;00m \u001b[38;5;28mself\u001b[39m\u001b[38;5;241m.\u001b[39m_accessors\n\u001b[0;32m   5899\u001b[0m     \u001b[38;5;129;01mand\u001b[39;00m \u001b[38;5;28mself\u001b[39m\u001b[38;5;241m.\u001b[39m_info_axis\u001b[38;5;241m.\u001b[39m_can_hold_identifiers_and_holds_name(name)\n\u001b[0;32m   5900\u001b[0m ):\n\u001b[0;32m   5901\u001b[0m     \u001b[38;5;28;01mreturn\u001b[39;00m \u001b[38;5;28mself\u001b[39m[name]\n\u001b[1;32m-> 5902\u001b[0m \u001b[38;5;28;01mreturn\u001b[39;00m \u001b[38;5;28;43mobject\u001b[39;49m\u001b[38;5;241;43m.\u001b[39;49m\u001b[38;5;21;43m__getattribute__\u001b[39;49m\u001b[43m(\u001b[49m\u001b[38;5;28;43mself\u001b[39;49m\u001b[43m,\u001b[49m\u001b[43m \u001b[49m\u001b[43mname\u001b[49m\u001b[43m)\u001b[49m\n",
      "\u001b[1;31mAttributeError\u001b[0m: 'DataFrame' object has no attribute 'unique'"
     ]
    }
   ],
   "source": [
    "data.unique"
   ]
  },
  {
   "cell_type": "code",
   "execution_count": 22,
   "id": "70c15470",
   "metadata": {},
   "outputs": [
    {
     "ename": "AttributeError",
     "evalue": "'DataFrame' object has no attribute 'unique'",
     "output_type": "error",
     "traceback": [
      "\u001b[1;31m---------------------------------------------------------------------------\u001b[0m",
      "\u001b[1;31mAttributeError\u001b[0m                            Traceback (most recent call last)",
      "Cell \u001b[1;32mIn [22], line 1\u001b[0m\n\u001b[1;32m----> 1\u001b[0m \u001b[43mdata\u001b[49m\u001b[38;5;241;43m.\u001b[39;49m\u001b[43munique\u001b[49m()\n",
      "File \u001b[1;32mc:\\users\\user\\appdata\\local\\programs\\python\\python310\\lib\\site-packages\\pandas\\core\\generic.py:5902\u001b[0m, in \u001b[0;36mNDFrame.__getattr__\u001b[1;34m(self, name)\u001b[0m\n\u001b[0;32m   5895\u001b[0m \u001b[38;5;28;01mif\u001b[39;00m (\n\u001b[0;32m   5896\u001b[0m     name \u001b[38;5;129;01mnot\u001b[39;00m \u001b[38;5;129;01min\u001b[39;00m \u001b[38;5;28mself\u001b[39m\u001b[38;5;241m.\u001b[39m_internal_names_set\n\u001b[0;32m   5897\u001b[0m     \u001b[38;5;129;01mand\u001b[39;00m name \u001b[38;5;129;01mnot\u001b[39;00m \u001b[38;5;129;01min\u001b[39;00m \u001b[38;5;28mself\u001b[39m\u001b[38;5;241m.\u001b[39m_metadata\n\u001b[0;32m   5898\u001b[0m     \u001b[38;5;129;01mand\u001b[39;00m name \u001b[38;5;129;01mnot\u001b[39;00m \u001b[38;5;129;01min\u001b[39;00m \u001b[38;5;28mself\u001b[39m\u001b[38;5;241m.\u001b[39m_accessors\n\u001b[0;32m   5899\u001b[0m     \u001b[38;5;129;01mand\u001b[39;00m \u001b[38;5;28mself\u001b[39m\u001b[38;5;241m.\u001b[39m_info_axis\u001b[38;5;241m.\u001b[39m_can_hold_identifiers_and_holds_name(name)\n\u001b[0;32m   5900\u001b[0m ):\n\u001b[0;32m   5901\u001b[0m     \u001b[38;5;28;01mreturn\u001b[39;00m \u001b[38;5;28mself\u001b[39m[name]\n\u001b[1;32m-> 5902\u001b[0m \u001b[38;5;28;01mreturn\u001b[39;00m \u001b[38;5;28;43mobject\u001b[39;49m\u001b[38;5;241;43m.\u001b[39;49m\u001b[38;5;21;43m__getattribute__\u001b[39;49m\u001b[43m(\u001b[49m\u001b[38;5;28;43mself\u001b[39;49m\u001b[43m,\u001b[49m\u001b[43m \u001b[49m\u001b[43mname\u001b[49m\u001b[43m)\u001b[49m\n",
      "\u001b[1;31mAttributeError\u001b[0m: 'DataFrame' object has no attribute 'unique'"
     ]
    }
   ],
   "source": [
    "data.unique()"
   ]
  },
  {
   "cell_type": "code",
   "execution_count": 23,
   "id": "2250c7aa",
   "metadata": {},
   "outputs": [
    {
     "data": {
      "text/plain": [
       "['Date/Time',\n",
       " 'Temp_C',\n",
       " 'Dew Point Temp_C',\n",
       " 'Rel Hum_%',\n",
       " 'Wind Speed_km/h',\n",
       " 'Visibility_km',\n",
       " 'Press_kPa',\n",
       " 'Weather']"
      ]
     },
     "execution_count": 23,
     "metadata": {},
     "output_type": "execute_result"
    }
   ],
   "source": [
    "l"
   ]
  },
  {
   "cell_type": "code",
   "execution_count": 26,
   "id": "01529e9e",
   "metadata": {},
   "outputs": [],
   "source": [
    "a = data['Temp_C'].unique()"
   ]
  },
  {
   "cell_type": "code",
   "execution_count": 27,
   "id": "7dfe8aab",
   "metadata": {},
   "outputs": [
    {
     "data": {
      "text/plain": [
       "array([ -1.8,  -1.5,  -1.4,  -1.3,  -1. ,  -0.5,  -0.2,   0.2,   0.8,\n",
       "         1.8,   2.6,   3. ,   3.8,   3.1,   3.2,   4. ,   4.4,   5.3,\n",
       "         5.2,   4.6,   3.9,   3.7,   2.9,   2.3,   2. ,   1.9,   1.5,\n",
       "         2.2,   1.7,   1.1,   0. ,  -0.7,  -2.1,  -4.1,  -4.8,  -5.6,\n",
       "        -5.8,  -7. ,  -7.4,  -9. ,  -9.7, -10.5, -11.3, -12.6, -12.9,\n",
       "       -13.3, -14. , -14.8, -15. , -15.3, -14.9, -15.1, -15.8, -16.3,\n",
       "       -16.9, -17.3, -17. , -17.1, -17.5, -17.9, -18.1, -18.5, -18.6,\n",
       "       -18.2, -17.8, -16.8, -15.2, -14.2, -13.7, -12.4, -10.2,  -9.4,\n",
       "        -8.9,  -8.4,  -7.8,  -7.6,  -9.5,  -9.6,  -8.8,  -7.5,  -5.4,\n",
       "        -5. ,  -8.2,  -7.1,  -6.1,  -6.6,  -6. ,  -4.7,  -4.4,  -5.1,\n",
       "        -4.3,  -6.7,  -9.2,  -9.8,  -9.9, -10. , -10.6, -11.8, -12. ,\n",
       "       -14.4, -12.3, -12.5, -11.7, -11.9, -11.2, -11.5, -11.6,  -9.3,\n",
       "        -8.7,  -8.5,  -8.1,  -6.9,  -6.4,  -5.7,  -5.5,  -3.7,  -3.6,\n",
       "        -3.1,  -3.2,  -3. ,   0.4,   0.6,  -0.6,  -1.7,  -3.5,  -5.9,\n",
       "        -6.5,  -7.2,  -8. ,  -8.3,  -7.7,  -6.8,  -2.5,  -1.1,  -0.3,\n",
       "         2.5,   1.4,   1.6,   1.2,   0.7,  -4. ,  -4.9,  -7.3,  -8.6,\n",
       "       -10.7, -12.7, -13.4, -13.9, -14.7, -14.3, -12.2, -11.4, -10.8,\n",
       "        -6.2,  -5.2,  -4.6,  -4.5,  -2.9, -18. , -16.7, -17.4, -17.7,\n",
       "       -18.3, -19.6, -20. , -19.9, -20.3, -21.2, -21.1, -21.4, -20.7,\n",
       "       -21. , -21.3, -23.2, -22.8, -23.3, -22.2, -20.6, -19.3, -16. ,\n",
       "       -15.4, -16.2, -19.2, -18.7, -19.1, -13.6, -10.1, -10.4,  -5.3,\n",
       "        -3.3,  -1.6,   2.1,   0.5, -10.9, -11.1, -11. , -10.3, -16.6,\n",
       "       -14.6,  -4.2,  -3.9,  -6.3, -15.5, -15.9, -16.4, -16.1, -12.1,\n",
       "       -13. , -17.6, -18.4, -17.2, -19.5, -19. , -14.5, -13.2,   2.7,\n",
       "         3.3,   3.6,   3.5,   5. ,   4.2,   3.4,   2.8,   2.4,   1.3,\n",
       "         1. ,  -0.1,  -0.4,  -2.8,  -7.9,  -3.4,  -3.8,  -0.8,   0.3,\n",
       "         0.1,  -1.2,   0.9,  -0.9,  -2. ,  -1.9,  -2.2,  -2.3, -15.7,\n",
       "       -13.5, -13.8,  -2.4, -13.1, -12.8,  -2.7,   5.8,   6.1,   5.4,\n",
       "         6.5,   4.3,   6.4,   8.9,   9.3,   9.7,  11.4,   9.9,   5.5,\n",
       "         6. ,   7.6,   6.8,   4.8,   6.2,   7.9,  10.1,  10. ,   5.7,\n",
       "        10.3,   6.7,  10.2,  12.1,  12.7,  11.7,  11.5,  11.6,  11.3,\n",
       "        10.5,  -2.6,   5.9,   9. ,   9.5,  10.9,  10.7,   9.1,   7.4,\n",
       "         8.3,  10.6,  10.8,  12.3,  12.4,  11.8,   8.7,   9.2,   8.4,\n",
       "         6.6,   7.5,   5.1,   4.9,   4.1,   8.1,   9.8,   8.8,   7.7,\n",
       "        10.4,  11.9,  14.1,  17.3,  20. ,  21.7,  22.2,  22.7,  21.8,\n",
       "        18.4,  17.1,  12.8,  13.4,  12.6,  11.2,  13.9,  15.6,  17.8,\n",
       "        19.8,  18.5,  17. ,  16.3,  16.6,  15.9,  12.5,   7.2,   7.1,\n",
       "         8. ,  14.9,  16.5,  21.5,  22.5,  23.3,  22. ,  19.7,  17.5,\n",
       "        18.1,  16. ,  14.2,  14.3,  14. ,  13.8,  18.2,  20.2,  22.3,\n",
       "        23.8,  24.7,  25.4,  25.5,  25.2,  20.7,  17.2,  16.4,  18. ,\n",
       "        15.5,  15. ,  11. ,  13.2,  13.7,  15.4,  19.6,  20.4,  23. ,\n",
       "        22.8,  21.4,  16.7,  15.1,  14.5,  16.2,  16.8,  14.7,   7.3,\n",
       "         4.7,   6.3,   4.5,   8.2,   7. ,   6.9,   7.8,   5.6,   8.5,\n",
       "         8.6,   9.4,  12.2,  13.5,  16.1,  13.6,  15.3,  14.8,  12. ,\n",
       "        12.9,  13.1,  19.4,  14.6,  15.7,  14.4,  15.2,  19.3,  24.9,\n",
       "        24.1,  24.8,  26.6,  27.4,  27.8,  27.3,  26.7,  26.4,  20.5,\n",
       "        19.5,  19. ,  18.9,  17.4,  11.1,  15.8,  18.7,   9.6,  13. ,\n",
       "        13.3,  16.9,  20.1,  20.6,  20.9,  21. ,  19.9,  19.2,  17.6,\n",
       "        17.9,  18.6,  22.4,  23.9,  23.6,  18.8,  21.2,  21.9,  23.2,\n",
       "        23.4,  23.5,  22.9,  18.3,  20.3,  20.8,  17.7,  19.1,  25.6,\n",
       "        25.8,  26. ,  24.3,  21.6,  26.8,  28.6,  29.5,  30.9,  31.2,\n",
       "        30.8,  29.2,  26.9,  25.9,  24. ,  28. ,  28.4,  28.8,  28.9,\n",
       "        28.2,  27.7,  26.5,  21.1,  24.6,  26.1,  27.1,  27.6,  28.1,\n",
       "        24.4,  23.1,  27.2,  26.2,  21.3,  22.1,  22.6,  24.2,  23.7,\n",
       "        25.3,  28.7,  29.4,  30.1,  29.6,  29.1,  25. ,  24.5,  25.7,\n",
       "        27. ,  27.9,  26.3,  28.5,  29.7,  31.7,  32.2,  32.3,  32.4,\n",
       "        30.6,  25.1,  31.8,  31.6,  32.6,  33. ,  32.5,  32.1,  31.1,\n",
       "        30.3,  27.5,  29. ,  29.8,  30.7,  30.2,  29.9,  28.3,  30.5,\n",
       "        30.4,  31.9,  31.4,  32.7,  32.9,  31.5,  29.3,  30. ,  32. ,\n",
       "        32.8,  -9.1])"
      ]
     },
     "execution_count": 27,
     "metadata": {},
     "output_type": "execute_result"
    }
   ],
   "source": [
    "a"
   ]
  },
  {
   "cell_type": "code",
   "execution_count": 28,
   "id": "420113b9",
   "metadata": {},
   "outputs": [
    {
     "data": {
      "text/plain": [
       "509"
      ]
     },
     "execution_count": 28,
     "metadata": {},
     "output_type": "execute_result"
    }
   ],
   "source": [
    "a.argmax()"
   ]
  },
  {
   "cell_type": "code",
   "execution_count": 29,
   "id": "7df27b06",
   "metadata": {},
   "outputs": [
    {
     "data": {
      "text/plain": [
       "33.0"
      ]
     },
     "execution_count": 29,
     "metadata": {},
     "output_type": "execute_result"
    }
   ],
   "source": [
    "a.max()"
   ]
  },
  {
   "cell_type": "code",
   "execution_count": 30,
   "id": "708b8d5e",
   "metadata": {},
   "outputs": [
    {
     "ename": "AttributeError",
     "evalue": "'numpy.ndarray' object has no attribute 'indexof'",
     "output_type": "error",
     "traceback": [
      "\u001b[1;31m---------------------------------------------------------------------------\u001b[0m",
      "\u001b[1;31mAttributeError\u001b[0m                            Traceback (most recent call last)",
      "Cell \u001b[1;32mIn [30], line 1\u001b[0m\n\u001b[1;32m----> 1\u001b[0m \u001b[43ma\u001b[49m\u001b[38;5;241;43m.\u001b[39;49m\u001b[43mindexof\u001b[49m(\u001b[38;5;124m'\u001b[39m\u001b[38;5;124m509\u001b[39m\u001b[38;5;124m'\u001b[39m)\n",
      "\u001b[1;31mAttributeError\u001b[0m: 'numpy.ndarray' object has no attribute 'indexof'"
     ]
    }
   ],
   "source": [
    "a.indexof('509')"
   ]
  },
  {
   "cell_type": "code",
   "execution_count": 31,
   "id": "38b6090e",
   "metadata": {},
   "outputs": [
    {
     "ename": "AttributeError",
     "evalue": "'numpy.ndarray' object has no attribute 'index'",
     "output_type": "error",
     "traceback": [
      "\u001b[1;31m---------------------------------------------------------------------------\u001b[0m",
      "\u001b[1;31mAttributeError\u001b[0m                            Traceback (most recent call last)",
      "Cell \u001b[1;32mIn [31], line 1\u001b[0m\n\u001b[1;32m----> 1\u001b[0m \u001b[43ma\u001b[49m\u001b[38;5;241;43m.\u001b[39;49m\u001b[43mindex\u001b[49m(\u001b[38;5;241m509\u001b[39m)\n",
      "\u001b[1;31mAttributeError\u001b[0m: 'numpy.ndarray' object has no attribute 'index'"
     ]
    }
   ],
   "source": [
    "a.index(509)"
   ]
  },
  {
   "cell_type": "code",
   "execution_count": 32,
   "id": "b506f1df",
   "metadata": {},
   "outputs": [
    {
     "ename": "AttributeError",
     "evalue": "'numpy.ndarray' object has no attribute 'index'",
     "output_type": "error",
     "traceback": [
      "\u001b[1;31m---------------------------------------------------------------------------\u001b[0m",
      "\u001b[1;31mAttributeError\u001b[0m                            Traceback (most recent call last)",
      "Cell \u001b[1;32mIn [32], line 1\u001b[0m\n\u001b[1;32m----> 1\u001b[0m \u001b[43ma\u001b[49m\u001b[38;5;241;43m.\u001b[39;49m\u001b[43mindex\u001b[49m(\u001b[38;5;241m33\u001b[39m)\n",
      "\u001b[1;31mAttributeError\u001b[0m: 'numpy.ndarray' object has no attribute 'index'"
     ]
    }
   ],
   "source": [
    "a.index(33)"
   ]
  },
  {
   "cell_type": "code",
   "execution_count": 33,
   "id": "f6b0455c",
   "metadata": {},
   "outputs": [
    {
     "ename": "AttributeError",
     "evalue": "'numpy.ndarray' object has no attribute 'index'",
     "output_type": "error",
     "traceback": [
      "\u001b[1;31m---------------------------------------------------------------------------\u001b[0m",
      "\u001b[1;31mAttributeError\u001b[0m                            Traceback (most recent call last)",
      "Cell \u001b[1;32mIn [33], line 1\u001b[0m\n\u001b[1;32m----> 1\u001b[0m \u001b[43ma\u001b[49m\u001b[38;5;241;43m.\u001b[39;49m\u001b[43mindex\u001b[49m(\u001b[38;5;241m33.0\u001b[39m)\n",
      "\u001b[1;31mAttributeError\u001b[0m: 'numpy.ndarray' object has no attribute 'index'"
     ]
    }
   ],
   "source": [
    "a.index(33.0)"
   ]
  },
  {
   "cell_type": "code",
   "execution_count": 34,
   "id": "9b4d4c8f",
   "metadata": {},
   "outputs": [
    {
     "ename": "AttributeError",
     "evalue": "'numpy.ndarray' object has no attribute 'where'",
     "output_type": "error",
     "traceback": [
      "\u001b[1;31m---------------------------------------------------------------------------\u001b[0m",
      "\u001b[1;31mAttributeError\u001b[0m                            Traceback (most recent call last)",
      "Cell \u001b[1;32mIn [34], line 1\u001b[0m\n\u001b[1;32m----> 1\u001b[0m \u001b[43ma\u001b[49m\u001b[38;5;241;43m.\u001b[39;49m\u001b[43mwhere\u001b[49m(index\u001b[38;5;241m=\u001b[39m\u001b[38;5;241m509\u001b[39m)\n",
      "\u001b[1;31mAttributeError\u001b[0m: 'numpy.ndarray' object has no attribute 'where'"
     ]
    }
   ],
   "source": [
    "a.where(index=509)"
   ]
  },
  {
   "cell_type": "code",
   "execution_count": 35,
   "id": "0f87d240",
   "metadata": {},
   "outputs": [
    {
     "data": {
      "text/plain": [
       "array([ -1.8,  -1.5,  -1.4,  -1.3,  -1. ,  -0.5,  -0.2,   0.2,   0.8,\n",
       "         1.8,   2.6,   3. ,   3.8,   3.1,   3.2,   4. ,   4.4,   5.3,\n",
       "         5.2,   4.6,   3.9,   3.7,   2.9,   2.3,   2. ,   1.9,   1.5,\n",
       "         2.2,   1.7,   1.1,   0. ,  -0.7,  -2.1,  -4.1,  -4.8,  -5.6,\n",
       "        -5.8,  -7. ,  -7.4,  -9. ,  -9.7, -10.5, -11.3, -12.6, -12.9,\n",
       "       -13.3, -14. , -14.8, -15. , -15.3, -14.9, -15.1, -15.8, -16.3,\n",
       "       -16.9, -17.3, -17. , -17.1, -17.5, -17.9, -18.1, -18.5, -18.6,\n",
       "       -18.2, -17.8, -16.8, -15.2, -14.2, -13.7, -12.4, -10.2,  -9.4,\n",
       "        -8.9,  -8.4,  -7.8,  -7.6,  -9.5,  -9.6,  -8.8,  -7.5,  -5.4,\n",
       "        -5. ,  -8.2,  -7.1,  -6.1,  -6.6,  -6. ,  -4.7,  -4.4,  -5.1,\n",
       "        -4.3,  -6.7,  -9.2,  -9.8,  -9.9, -10. , -10.6, -11.8, -12. ,\n",
       "       -14.4, -12.3, -12.5, -11.7, -11.9, -11.2, -11.5, -11.6,  -9.3,\n",
       "        -8.7,  -8.5,  -8.1,  -6.9,  -6.4,  -5.7,  -5.5,  -3.7,  -3.6,\n",
       "        -3.1,  -3.2,  -3. ,   0.4,   0.6,  -0.6,  -1.7,  -3.5,  -5.9,\n",
       "        -6.5,  -7.2,  -8. ,  -8.3,  -7.7,  -6.8,  -2.5,  -1.1,  -0.3,\n",
       "         2.5,   1.4,   1.6,   1.2,   0.7,  -4. ,  -4.9,  -7.3,  -8.6,\n",
       "       -10.7, -12.7, -13.4, -13.9, -14.7, -14.3, -12.2, -11.4, -10.8,\n",
       "        -6.2,  -5.2,  -4.6,  -4.5,  -2.9, -18. , -16.7, -17.4, -17.7,\n",
       "       -18.3, -19.6, -20. , -19.9, -20.3, -21.2, -21.1, -21.4, -20.7,\n",
       "       -21. , -21.3, -23.2, -22.8, -23.3, -22.2, -20.6, -19.3, -16. ,\n",
       "       -15.4, -16.2, -19.2, -18.7, -19.1, -13.6, -10.1, -10.4,  -5.3,\n",
       "        -3.3,  -1.6,   2.1,   0.5, -10.9, -11.1, -11. , -10.3, -16.6,\n",
       "       -14.6,  -4.2,  -3.9,  -6.3, -15.5, -15.9, -16.4, -16.1, -12.1,\n",
       "       -13. , -17.6, -18.4, -17.2, -19.5, -19. , -14.5, -13.2,   2.7,\n",
       "         3.3,   3.6,   3.5,   5. ,   4.2,   3.4,   2.8,   2.4,   1.3,\n",
       "         1. ,  -0.1,  -0.4,  -2.8,  -7.9,  -3.4,  -3.8,  -0.8,   0.3,\n",
       "         0.1,  -1.2,   0.9,  -0.9,  -2. ,  -1.9,  -2.2,  -2.3, -15.7,\n",
       "       -13.5, -13.8,  -2.4, -13.1, -12.8,  -2.7,   5.8,   6.1,   5.4,\n",
       "         6.5,   4.3,   6.4,   8.9,   9.3,   9.7,  11.4,   9.9,   5.5,\n",
       "         6. ,   7.6,   6.8,   4.8,   6.2,   7.9,  10.1,  10. ,   5.7,\n",
       "        10.3,   6.7,  10.2,  12.1,  12.7,  11.7,  11.5,  11.6,  11.3,\n",
       "        10.5,  -2.6,   5.9,   9. ,   9.5,  10.9,  10.7,   9.1,   7.4,\n",
       "         8.3,  10.6,  10.8,  12.3,  12.4,  11.8,   8.7,   9.2,   8.4,\n",
       "         6.6,   7.5,   5.1,   4.9,   4.1,   8.1,   9.8,   8.8,   7.7,\n",
       "        10.4,  11.9,  14.1,  17.3,  20. ,  21.7,  22.2,  22.7,  21.8,\n",
       "        18.4,  17.1,  12.8,  13.4,  12.6,  11.2,  13.9,  15.6,  17.8,\n",
       "        19.8,  18.5,  17. ,  16.3,  16.6,  15.9,  12.5,   7.2,   7.1,\n",
       "         8. ,  14.9,  16.5,  21.5,  22.5,  23.3,  22. ,  19.7,  17.5,\n",
       "        18.1,  16. ,  14.2,  14.3,  14. ,  13.8,  18.2,  20.2,  22.3,\n",
       "        23.8,  24.7,  25.4,  25.5,  25.2,  20.7,  17.2,  16.4,  18. ,\n",
       "        15.5,  15. ,  11. ,  13.2,  13.7,  15.4,  19.6,  20.4,  23. ,\n",
       "        22.8,  21.4,  16.7,  15.1,  14.5,  16.2,  16.8,  14.7,   7.3,\n",
       "         4.7,   6.3,   4.5,   8.2,   7. ,   6.9,   7.8,   5.6,   8.5,\n",
       "         8.6,   9.4,  12.2,  13.5,  16.1,  13.6,  15.3,  14.8,  12. ,\n",
       "        12.9,  13.1,  19.4,  14.6,  15.7,  14.4,  15.2,  19.3,  24.9,\n",
       "        24.1,  24.8,  26.6,  27.4,  27.8,  27.3,  26.7,  26.4,  20.5,\n",
       "        19.5,  19. ,  18.9,  17.4,  11.1,  15.8,  18.7,   9.6,  13. ,\n",
       "        13.3,  16.9,  20.1,  20.6,  20.9,  21. ,  19.9,  19.2,  17.6,\n",
       "        17.9,  18.6,  22.4,  23.9,  23.6,  18.8,  21.2,  21.9,  23.2,\n",
       "        23.4,  23.5,  22.9,  18.3,  20.3,  20.8,  17.7,  19.1,  25.6,\n",
       "        25.8,  26. ,  24.3,  21.6,  26.8,  28.6,  29.5,  30.9,  31.2,\n",
       "        30.8,  29.2,  26.9,  25.9,  24. ,  28. ,  28.4,  28.8,  28.9,\n",
       "        28.2,  27.7,  26.5,  21.1,  24.6,  26.1,  27.1,  27.6,  28.1,\n",
       "        24.4,  23.1,  27.2,  26.2,  21.3,  22.1,  22.6,  24.2,  23.7,\n",
       "        25.3,  28.7,  29.4,  30.1,  29.6,  29.1,  25. ,  24.5,  25.7,\n",
       "        27. ,  27.9,  26.3,  28.5,  29.7,  31.7,  32.2,  32.3,  32.4,\n",
       "        30.6,  25.1,  31.8,  31.6,  32.6,  33. ,  32.5,  32.1,  31.1,\n",
       "        30.3,  27.5,  29. ,  29.8,  30.7,  30.2,  29.9,  28.3,  30.5,\n",
       "        30.4,  31.9,  31.4,  32.7,  32.9,  31.5,  29.3,  30. ,  32. ,\n",
       "        32.8,  -9.1])"
      ]
     },
     "execution_count": 35,
     "metadata": {},
     "output_type": "execute_result"
    }
   ],
   "source": [
    "a"
   ]
  },
  {
   "cell_type": "code",
   "execution_count": 36,
   "id": "7b73249e",
   "metadata": {},
   "outputs": [
    {
     "data": {
      "text/plain": [
       "33.0"
      ]
     },
     "execution_count": 36,
     "metadata": {},
     "output_type": "execute_result"
    }
   ],
   "source": [
    "a.max()"
   ]
  },
  {
   "cell_type": "code",
   "execution_count": 37,
   "id": "1c48e1b1",
   "metadata": {},
   "outputs": [
    {
     "data": {
      "text/plain": [
       "-23.3"
      ]
     },
     "execution_count": 37,
     "metadata": {},
     "output_type": "execute_result"
    }
   ],
   "source": [
    "a.min()"
   ]
  },
  {
   "cell_type": "code",
   "execution_count": 38,
   "id": "c2764e9f",
   "metadata": {},
   "outputs": [
    {
     "data": {
      "text/plain": [
       "509"
      ]
     },
     "execution_count": 38,
     "metadata": {},
     "output_type": "execute_result"
    }
   ],
   "source": [
    "a.argmax()"
   ]
  },
  {
   "cell_type": "code",
   "execution_count": 39,
   "id": "8f582e74",
   "metadata": {},
   "outputs": [
    {
     "data": {
      "text/plain": [
       "175"
      ]
     },
     "execution_count": 39,
     "metadata": {},
     "output_type": "execute_result"
    }
   ],
   "source": [
    "a.argmin()"
   ]
  },
  {
   "cell_type": "code",
   "execution_count": 40,
   "id": "93ac63cc",
   "metadata": {},
   "outputs": [],
   "source": [
    "a.sort(axis=0)"
   ]
  },
  {
   "cell_type": "code",
   "execution_count": 41,
   "id": "177960e1",
   "metadata": {},
   "outputs": [
    {
     "data": {
      "text/plain": [
       "array([-23.3, -23.2, -22.8, -22.2, -21.4, -21.3, -21.2, -21.1, -21. ,\n",
       "       -20.7, -20.6, -20.3, -20. , -19.9, -19.6, -19.5, -19.3, -19.2,\n",
       "       -19.1, -19. , -18.7, -18.6, -18.5, -18.4, -18.3, -18.2, -18.1,\n",
       "       -18. , -17.9, -17.8, -17.7, -17.6, -17.5, -17.4, -17.3, -17.2,\n",
       "       -17.1, -17. , -16.9, -16.8, -16.7, -16.6, -16.4, -16.3, -16.2,\n",
       "       -16.1, -16. , -15.9, -15.8, -15.7, -15.5, -15.4, -15.3, -15.2,\n",
       "       -15.1, -15. , -14.9, -14.8, -14.7, -14.6, -14.5, -14.4, -14.3,\n",
       "       -14.2, -14. , -13.9, -13.8, -13.7, -13.6, -13.5, -13.4, -13.3,\n",
       "       -13.2, -13.1, -13. , -12.9, -12.8, -12.7, -12.6, -12.5, -12.4,\n",
       "       -12.3, -12.2, -12.1, -12. , -11.9, -11.8, -11.7, -11.6, -11.5,\n",
       "       -11.4, -11.3, -11.2, -11.1, -11. , -10.9, -10.8, -10.7, -10.6,\n",
       "       -10.5, -10.4, -10.3, -10.2, -10.1, -10. ,  -9.9,  -9.8,  -9.7,\n",
       "        -9.6,  -9.5,  -9.4,  -9.3,  -9.2,  -9.1,  -9. ,  -8.9,  -8.8,\n",
       "        -8.7,  -8.6,  -8.5,  -8.4,  -8.3,  -8.2,  -8.1,  -8. ,  -7.9,\n",
       "        -7.8,  -7.7,  -7.6,  -7.5,  -7.4,  -7.3,  -7.2,  -7.1,  -7. ,\n",
       "        -6.9,  -6.8,  -6.7,  -6.6,  -6.5,  -6.4,  -6.3,  -6.2,  -6.1,\n",
       "        -6. ,  -5.9,  -5.8,  -5.7,  -5.6,  -5.5,  -5.4,  -5.3,  -5.2,\n",
       "        -5.1,  -5. ,  -4.9,  -4.8,  -4.7,  -4.6,  -4.5,  -4.4,  -4.3,\n",
       "        -4.2,  -4.1,  -4. ,  -3.9,  -3.8,  -3.7,  -3.6,  -3.5,  -3.4,\n",
       "        -3.3,  -3.2,  -3.1,  -3. ,  -2.9,  -2.8,  -2.7,  -2.6,  -2.5,\n",
       "        -2.4,  -2.3,  -2.2,  -2.1,  -2. ,  -1.9,  -1.8,  -1.7,  -1.6,\n",
       "        -1.5,  -1.4,  -1.3,  -1.2,  -1.1,  -1. ,  -0.9,  -0.8,  -0.7,\n",
       "        -0.6,  -0.5,  -0.4,  -0.3,  -0.2,  -0.1,   0. ,   0.1,   0.2,\n",
       "         0.3,   0.4,   0.5,   0.6,   0.7,   0.8,   0.9,   1. ,   1.1,\n",
       "         1.2,   1.3,   1.4,   1.5,   1.6,   1.7,   1.8,   1.9,   2. ,\n",
       "         2.1,   2.2,   2.3,   2.4,   2.5,   2.6,   2.7,   2.8,   2.9,\n",
       "         3. ,   3.1,   3.2,   3.3,   3.4,   3.5,   3.6,   3.7,   3.8,\n",
       "         3.9,   4. ,   4.1,   4.2,   4.3,   4.4,   4.5,   4.6,   4.7,\n",
       "         4.8,   4.9,   5. ,   5.1,   5.2,   5.3,   5.4,   5.5,   5.6,\n",
       "         5.7,   5.8,   5.9,   6. ,   6.1,   6.2,   6.3,   6.4,   6.5,\n",
       "         6.6,   6.7,   6.8,   6.9,   7. ,   7.1,   7.2,   7.3,   7.4,\n",
       "         7.5,   7.6,   7.7,   7.8,   7.9,   8. ,   8.1,   8.2,   8.3,\n",
       "         8.4,   8.5,   8.6,   8.7,   8.8,   8.9,   9. ,   9.1,   9.2,\n",
       "         9.3,   9.4,   9.5,   9.6,   9.7,   9.8,   9.9,  10. ,  10.1,\n",
       "        10.2,  10.3,  10.4,  10.5,  10.6,  10.7,  10.8,  10.9,  11. ,\n",
       "        11.1,  11.2,  11.3,  11.4,  11.5,  11.6,  11.7,  11.8,  11.9,\n",
       "        12. ,  12.1,  12.2,  12.3,  12.4,  12.5,  12.6,  12.7,  12.8,\n",
       "        12.9,  13. ,  13.1,  13.2,  13.3,  13.4,  13.5,  13.6,  13.7,\n",
       "        13.8,  13.9,  14. ,  14.1,  14.2,  14.3,  14.4,  14.5,  14.6,\n",
       "        14.7,  14.8,  14.9,  15. ,  15.1,  15.2,  15.3,  15.4,  15.5,\n",
       "        15.6,  15.7,  15.8,  15.9,  16. ,  16.1,  16.2,  16.3,  16.4,\n",
       "        16.5,  16.6,  16.7,  16.8,  16.9,  17. ,  17.1,  17.2,  17.3,\n",
       "        17.4,  17.5,  17.6,  17.7,  17.8,  17.9,  18. ,  18.1,  18.2,\n",
       "        18.3,  18.4,  18.5,  18.6,  18.7,  18.8,  18.9,  19. ,  19.1,\n",
       "        19.2,  19.3,  19.4,  19.5,  19.6,  19.7,  19.8,  19.9,  20. ,\n",
       "        20.1,  20.2,  20.3,  20.4,  20.5,  20.6,  20.7,  20.8,  20.9,\n",
       "        21. ,  21.1,  21.2,  21.3,  21.4,  21.5,  21.6,  21.7,  21.8,\n",
       "        21.9,  22. ,  22.1,  22.2,  22.3,  22.4,  22.5,  22.6,  22.7,\n",
       "        22.8,  22.9,  23. ,  23.1,  23.2,  23.3,  23.4,  23.5,  23.6,\n",
       "        23.7,  23.8,  23.9,  24. ,  24.1,  24.2,  24.3,  24.4,  24.5,\n",
       "        24.6,  24.7,  24.8,  24.9,  25. ,  25.1,  25.2,  25.3,  25.4,\n",
       "        25.5,  25.6,  25.7,  25.8,  25.9,  26. ,  26.1,  26.2,  26.3,\n",
       "        26.4,  26.5,  26.6,  26.7,  26.8,  26.9,  27. ,  27.1,  27.2,\n",
       "        27.3,  27.4,  27.5,  27.6,  27.7,  27.8,  27.9,  28. ,  28.1,\n",
       "        28.2,  28.3,  28.4,  28.5,  28.6,  28.7,  28.8,  28.9,  29. ,\n",
       "        29.1,  29.2,  29.3,  29.4,  29.5,  29.6,  29.7,  29.8,  29.9,\n",
       "        30. ,  30.1,  30.2,  30.3,  30.4,  30.5,  30.6,  30.7,  30.8,\n",
       "        30.9,  31.1,  31.2,  31.4,  31.5,  31.6,  31.7,  31.8,  31.9,\n",
       "        32. ,  32.1,  32.2,  32.3,  32.4,  32.5,  32.6,  32.7,  32.8,\n",
       "        32.9,  33. ])"
      ]
     },
     "execution_count": 41,
     "metadata": {},
     "output_type": "execute_result"
    }
   ],
   "source": [
    "a"
   ]
  },
  {
   "cell_type": "code",
   "execution_count": 43,
   "id": "71731981",
   "metadata": {},
   "outputs": [
    {
     "data": {
      "text/plain": [
       "532"
      ]
     },
     "execution_count": 43,
     "metadata": {},
     "output_type": "execute_result"
    }
   ],
   "source": [
    "a.argmax()"
   ]
  },
  {
   "cell_type": "code",
   "execution_count": 44,
   "id": "56d26148",
   "metadata": {},
   "outputs": [
    {
     "data": {
      "text/plain": [
       "0"
      ]
     },
     "execution_count": 44,
     "metadata": {},
     "output_type": "execute_result"
    }
   ],
   "source": [
    "a.argmin()"
   ]
  },
  {
   "cell_type": "code",
   "execution_count": 45,
   "id": "fa56652f",
   "metadata": {},
   "outputs": [
    {
     "data": {
      "text/plain": [
       "(533,)"
      ]
     },
     "execution_count": 45,
     "metadata": {},
     "output_type": "execute_result"
    }
   ],
   "source": [
    "a.shape"
   ]
  },
  {
   "cell_type": "code",
   "execution_count": 47,
   "id": "1b7afed3",
   "metadata": {},
   "outputs": [
    {
     "ename": "AttributeError",
     "evalue": "'numpy.ndarray' object has no attribute 'insert'",
     "output_type": "error",
     "traceback": [
      "\u001b[1;31m---------------------------------------------------------------------------\u001b[0m",
      "\u001b[1;31mAttributeError\u001b[0m                            Traceback (most recent call last)",
      "Cell \u001b[1;32mIn [47], line 1\u001b[0m\n\u001b[1;32m----> 1\u001b[0m \u001b[43ma\u001b[49m\u001b[38;5;241;43m.\u001b[39;49m\u001b[43minsert\u001b[49m(\u001b[38;5;241m32.1\u001b[39m)\n",
      "\u001b[1;31mAttributeError\u001b[0m: 'numpy.ndarray' object has no attribute 'insert'"
     ]
    }
   ],
   "source": [
    "a.insert(32.1)"
   ]
  },
  {
   "cell_type": "code",
   "execution_count": 48,
   "id": "a7576c63",
   "metadata": {},
   "outputs": [
    {
     "ename": "AttributeError",
     "evalue": "'numpy.ndarray' object has no attribute 'pop'",
     "output_type": "error",
     "traceback": [
      "\u001b[1;31m---------------------------------------------------------------------------\u001b[0m",
      "\u001b[1;31mAttributeError\u001b[0m                            Traceback (most recent call last)",
      "Cell \u001b[1;32mIn [48], line 1\u001b[0m\n\u001b[1;32m----> 1\u001b[0m \u001b[43ma\u001b[49m\u001b[38;5;241;43m.\u001b[39;49m\u001b[43mpop\u001b[49m()\n",
      "\u001b[1;31mAttributeError\u001b[0m: 'numpy.ndarray' object has no attribute 'pop'"
     ]
    }
   ],
   "source": [
    "a.pop()"
   ]
  },
  {
   "cell_type": "code",
   "execution_count": 49,
   "id": "5a51e1be",
   "metadata": {},
   "outputs": [
    {
     "data": {
      "text/plain": [
       "dtype('float64')"
      ]
     },
     "execution_count": 49,
     "metadata": {},
     "output_type": "execute_result"
    }
   ],
   "source": [
    "a.dtype"
   ]
  },
  {
   "cell_type": "code",
   "execution_count": 50,
   "id": "79e9f138",
   "metadata": {},
   "outputs": [
    {
     "data": {
      "text/plain": [
       "array([-23.3, -23.2, -22.8, -22.2, -21.4, -21.3, -21.2, -21.1, -21. ,\n",
       "       -20.7, -20.6, -20.3, -20. , -19.9, -19.6, -19.5, -19.3, -19.2,\n",
       "       -19.1, -19. , -18.7, -18.6, -18.5, -18.4, -18.3, -18.2, -18.1,\n",
       "       -18. , -17.9, -17.8, -17.7, -17.6, -17.5, -17.4, -17.3, -17.2,\n",
       "       -17.1, -17. , -16.9, -16.8, -16.7, -16.6, -16.4, -16.3, -16.2,\n",
       "       -16.1, -16. , -15.9, -15.8, -15.7, -15.5, -15.4, -15.3, -15.2,\n",
       "       -15.1, -15. , -14.9, -14.8, -14.7, -14.6, -14.5, -14.4, -14.3,\n",
       "       -14.2, -14. , -13.9, -13.8, -13.7, -13.6, -13.5, -13.4, -13.3,\n",
       "       -13.2, -13.1, -13. , -12.9, -12.8, -12.7, -12.6, -12.5, -12.4,\n",
       "       -12.3, -12.2, -12.1, -12. , -11.9, -11.8, -11.7, -11.6, -11.5,\n",
       "       -11.4, -11.3, -11.2, -11.1, -11. , -10.9, -10.8, -10.7, -10.6,\n",
       "       -10.5, -10.4, -10.3, -10.2, -10.1, -10. ,  -9.9,  -9.8,  -9.7,\n",
       "        -9.6,  -9.5,  -9.4,  -9.3,  -9.2,  -9.1,  -9. ,  -8.9,  -8.8,\n",
       "        -8.7,  -8.6,  -8.5,  -8.4,  -8.3,  -8.2,  -8.1,  -8. ,  -7.9,\n",
       "        -7.8,  -7.7,  -7.6,  -7.5,  -7.4,  -7.3,  -7.2,  -7.1,  -7. ,\n",
       "        -6.9,  -6.8,  -6.7,  -6.6,  -6.5,  -6.4,  -6.3,  -6.2,  -6.1,\n",
       "        -6. ,  -5.9,  -5.8,  -5.7,  -5.6,  -5.5,  -5.4,  -5.3,  -5.2,\n",
       "        -5.1,  -5. ,  -4.9,  -4.8,  -4.7,  -4.6,  -4.5,  -4.4,  -4.3,\n",
       "        -4.2,  -4.1,  -4. ,  -3.9,  -3.8,  -3.7,  -3.6,  -3.5,  -3.4,\n",
       "        -3.3,  -3.2,  -3.1,  -3. ,  -2.9,  -2.8,  -2.7,  -2.6,  -2.5,\n",
       "        -2.4,  -2.3,  -2.2,  -2.1,  -2. ,  -1.9,  -1.8,  -1.7,  -1.6,\n",
       "        -1.5,  -1.4,  -1.3,  -1.2,  -1.1,  -1. ,  -0.9,  -0.8,  -0.7,\n",
       "        -0.6,  -0.5,  -0.4,  -0.3,  -0.2,  -0.1,   0. ,   0.1,   0.2,\n",
       "         0.3,   0.4,   0.5,   0.6,   0.7,   0.8,   0.9,   1. ,   1.1,\n",
       "         1.2,   1.3,   1.4,   1.5,   1.6,   1.7,   1.8,   1.9,   2. ,\n",
       "         2.1,   2.2,   2.3,   2.4,   2.5,   2.6,   2.7,   2.8,   2.9,\n",
       "         3. ,   3.1,   3.2,   3.3,   3.4,   3.5,   3.6,   3.7,   3.8,\n",
       "         3.9,   4. ,   4.1,   4.2,   4.3,   4.4,   4.5,   4.6,   4.7,\n",
       "         4.8,   4.9,   5. ,   5.1,   5.2,   5.3,   5.4,   5.5,   5.6,\n",
       "         5.7,   5.8,   5.9,   6. ,   6.1,   6.2,   6.3,   6.4,   6.5,\n",
       "         6.6,   6.7,   6.8,   6.9,   7. ,   7.1,   7.2,   7.3,   7.4,\n",
       "         7.5,   7.6,   7.7,   7.8,   7.9,   8. ,   8.1,   8.2,   8.3,\n",
       "         8.4,   8.5,   8.6,   8.7,   8.8,   8.9,   9. ,   9.1,   9.2,\n",
       "         9.3,   9.4,   9.5,   9.6,   9.7,   9.8,   9.9,  10. ,  10.1,\n",
       "        10.2,  10.3,  10.4,  10.5,  10.6,  10.7,  10.8,  10.9,  11. ,\n",
       "        11.1,  11.2,  11.3,  11.4,  11.5,  11.6,  11.7,  11.8,  11.9,\n",
       "        12. ,  12.1,  12.2,  12.3,  12.4,  12.5,  12.6,  12.7,  12.8,\n",
       "        12.9,  13. ,  13.1,  13.2,  13.3,  13.4,  13.5,  13.6,  13.7,\n",
       "        13.8,  13.9,  14. ,  14.1,  14.2,  14.3,  14.4,  14.5,  14.6,\n",
       "        14.7,  14.8,  14.9,  15. ,  15.1,  15.2,  15.3,  15.4,  15.5,\n",
       "        15.6,  15.7,  15.8,  15.9,  16. ,  16.1,  16.2,  16.3,  16.4,\n",
       "        16.5,  16.6,  16.7,  16.8,  16.9,  17. ,  17.1,  17.2,  17.3,\n",
       "        17.4,  17.5,  17.6,  17.7,  17.8,  17.9,  18. ,  18.1,  18.2,\n",
       "        18.3,  18.4,  18.5,  18.6,  18.7,  18.8,  18.9,  19. ,  19.1,\n",
       "        19.2,  19.3,  19.4,  19.5,  19.6,  19.7,  19.8,  19.9,  20. ,\n",
       "        20.1,  20.2,  20.3,  20.4,  20.5,  20.6,  20.7,  20.8,  20.9,\n",
       "        21. ,  21.1,  21.2,  21.3,  21.4,  21.5,  21.6,  21.7,  21.8,\n",
       "        21.9,  22. ,  22.1,  22.2,  22.3,  22.4,  22.5,  22.6,  22.7,\n",
       "        22.8,  22.9,  23. ,  23.1,  23.2,  23.3,  23.4,  23.5,  23.6,\n",
       "        23.7,  23.8,  23.9,  24. ,  24.1,  24.2,  24.3,  24.4,  24.5,\n",
       "        24.6,  24.7,  24.8,  24.9,  25. ,  25.1,  25.2,  25.3,  25.4,\n",
       "        25.5,  25.6,  25.7,  25.8,  25.9,  26. ,  26.1,  26.2,  26.3,\n",
       "        26.4,  26.5,  26.6,  26.7,  26.8,  26.9,  27. ,  27.1,  27.2,\n",
       "        27.3,  27.4,  27.5,  27.6,  27.7,  27.8,  27.9,  28. ,  28.1,\n",
       "        28.2,  28.3,  28.4,  28.5,  28.6,  28.7,  28.8,  28.9,  29. ,\n",
       "        29.1,  29.2,  29.3,  29.4,  29.5,  29.6,  29.7,  29.8,  29.9,\n",
       "        30. ,  30.1,  30.2,  30.3,  30.4,  30.5,  30.6,  30.7,  30.8,\n",
       "        30.9,  31.1,  31.2,  31.4,  31.5,  31.6,  31.7,  31.8,  31.9,\n",
       "        32. ,  32.1,  32.2,  32.3,  32.4,  32.5,  32.6,  32.7,  32.8,\n",
       "        32.9,  33. ])"
      ]
     },
     "execution_count": 50,
     "metadata": {},
     "output_type": "execute_result"
    }
   ],
   "source": [
    "a"
   ]
  },
  {
   "cell_type": "code",
   "execution_count": 51,
   "id": "cfe5eb52",
   "metadata": {},
   "outputs": [],
   "source": [
    "import numpy as np"
   ]
  },
  {
   "cell_type": "code",
   "execution_count": 53,
   "id": "b2fc1668",
   "metadata": {},
   "outputs": [],
   "source": [
    "array = np.array(a)"
   ]
  },
  {
   "cell_type": "code",
   "execution_count": 54,
   "id": "6e4906ff",
   "metadata": {},
   "outputs": [
    {
     "data": {
      "text/plain": [
       "array([-23.3, -23.2, -22.8, -22.2, -21.4, -21.3, -21.2, -21.1, -21. ,\n",
       "       -20.7, -20.6, -20.3, -20. , -19.9, -19.6, -19.5, -19.3, -19.2,\n",
       "       -19.1, -19. , -18.7, -18.6, -18.5, -18.4, -18.3, -18.2, -18.1,\n",
       "       -18. , -17.9, -17.8, -17.7, -17.6, -17.5, -17.4, -17.3, -17.2,\n",
       "       -17.1, -17. , -16.9, -16.8, -16.7, -16.6, -16.4, -16.3, -16.2,\n",
       "       -16.1, -16. , -15.9, -15.8, -15.7, -15.5, -15.4, -15.3, -15.2,\n",
       "       -15.1, -15. , -14.9, -14.8, -14.7, -14.6, -14.5, -14.4, -14.3,\n",
       "       -14.2, -14. , -13.9, -13.8, -13.7, -13.6, -13.5, -13.4, -13.3,\n",
       "       -13.2, -13.1, -13. , -12.9, -12.8, -12.7, -12.6, -12.5, -12.4,\n",
       "       -12.3, -12.2, -12.1, -12. , -11.9, -11.8, -11.7, -11.6, -11.5,\n",
       "       -11.4, -11.3, -11.2, -11.1, -11. , -10.9, -10.8, -10.7, -10.6,\n",
       "       -10.5, -10.4, -10.3, -10.2, -10.1, -10. ,  -9.9,  -9.8,  -9.7,\n",
       "        -9.6,  -9.5,  -9.4,  -9.3,  -9.2,  -9.1,  -9. ,  -8.9,  -8.8,\n",
       "        -8.7,  -8.6,  -8.5,  -8.4,  -8.3,  -8.2,  -8.1,  -8. ,  -7.9,\n",
       "        -7.8,  -7.7,  -7.6,  -7.5,  -7.4,  -7.3,  -7.2,  -7.1,  -7. ,\n",
       "        -6.9,  -6.8,  -6.7,  -6.6,  -6.5,  -6.4,  -6.3,  -6.2,  -6.1,\n",
       "        -6. ,  -5.9,  -5.8,  -5.7,  -5.6,  -5.5,  -5.4,  -5.3,  -5.2,\n",
       "        -5.1,  -5. ,  -4.9,  -4.8,  -4.7,  -4.6,  -4.5,  -4.4,  -4.3,\n",
       "        -4.2,  -4.1,  -4. ,  -3.9,  -3.8,  -3.7,  -3.6,  -3.5,  -3.4,\n",
       "        -3.3,  -3.2,  -3.1,  -3. ,  -2.9,  -2.8,  -2.7,  -2.6,  -2.5,\n",
       "        -2.4,  -2.3,  -2.2,  -2.1,  -2. ,  -1.9,  -1.8,  -1.7,  -1.6,\n",
       "        -1.5,  -1.4,  -1.3,  -1.2,  -1.1,  -1. ,  -0.9,  -0.8,  -0.7,\n",
       "        -0.6,  -0.5,  -0.4,  -0.3,  -0.2,  -0.1,   0. ,   0.1,   0.2,\n",
       "         0.3,   0.4,   0.5,   0.6,   0.7,   0.8,   0.9,   1. ,   1.1,\n",
       "         1.2,   1.3,   1.4,   1.5,   1.6,   1.7,   1.8,   1.9,   2. ,\n",
       "         2.1,   2.2,   2.3,   2.4,   2.5,   2.6,   2.7,   2.8,   2.9,\n",
       "         3. ,   3.1,   3.2,   3.3,   3.4,   3.5,   3.6,   3.7,   3.8,\n",
       "         3.9,   4. ,   4.1,   4.2,   4.3,   4.4,   4.5,   4.6,   4.7,\n",
       "         4.8,   4.9,   5. ,   5.1,   5.2,   5.3,   5.4,   5.5,   5.6,\n",
       "         5.7,   5.8,   5.9,   6. ,   6.1,   6.2,   6.3,   6.4,   6.5,\n",
       "         6.6,   6.7,   6.8,   6.9,   7. ,   7.1,   7.2,   7.3,   7.4,\n",
       "         7.5,   7.6,   7.7,   7.8,   7.9,   8. ,   8.1,   8.2,   8.3,\n",
       "         8.4,   8.5,   8.6,   8.7,   8.8,   8.9,   9. ,   9.1,   9.2,\n",
       "         9.3,   9.4,   9.5,   9.6,   9.7,   9.8,   9.9,  10. ,  10.1,\n",
       "        10.2,  10.3,  10.4,  10.5,  10.6,  10.7,  10.8,  10.9,  11. ,\n",
       "        11.1,  11.2,  11.3,  11.4,  11.5,  11.6,  11.7,  11.8,  11.9,\n",
       "        12. ,  12.1,  12.2,  12.3,  12.4,  12.5,  12.6,  12.7,  12.8,\n",
       "        12.9,  13. ,  13.1,  13.2,  13.3,  13.4,  13.5,  13.6,  13.7,\n",
       "        13.8,  13.9,  14. ,  14.1,  14.2,  14.3,  14.4,  14.5,  14.6,\n",
       "        14.7,  14.8,  14.9,  15. ,  15.1,  15.2,  15.3,  15.4,  15.5,\n",
       "        15.6,  15.7,  15.8,  15.9,  16. ,  16.1,  16.2,  16.3,  16.4,\n",
       "        16.5,  16.6,  16.7,  16.8,  16.9,  17. ,  17.1,  17.2,  17.3,\n",
       "        17.4,  17.5,  17.6,  17.7,  17.8,  17.9,  18. ,  18.1,  18.2,\n",
       "        18.3,  18.4,  18.5,  18.6,  18.7,  18.8,  18.9,  19. ,  19.1,\n",
       "        19.2,  19.3,  19.4,  19.5,  19.6,  19.7,  19.8,  19.9,  20. ,\n",
       "        20.1,  20.2,  20.3,  20.4,  20.5,  20.6,  20.7,  20.8,  20.9,\n",
       "        21. ,  21.1,  21.2,  21.3,  21.4,  21.5,  21.6,  21.7,  21.8,\n",
       "        21.9,  22. ,  22.1,  22.2,  22.3,  22.4,  22.5,  22.6,  22.7,\n",
       "        22.8,  22.9,  23. ,  23.1,  23.2,  23.3,  23.4,  23.5,  23.6,\n",
       "        23.7,  23.8,  23.9,  24. ,  24.1,  24.2,  24.3,  24.4,  24.5,\n",
       "        24.6,  24.7,  24.8,  24.9,  25. ,  25.1,  25.2,  25.3,  25.4,\n",
       "        25.5,  25.6,  25.7,  25.8,  25.9,  26. ,  26.1,  26.2,  26.3,\n",
       "        26.4,  26.5,  26.6,  26.7,  26.8,  26.9,  27. ,  27.1,  27.2,\n",
       "        27.3,  27.4,  27.5,  27.6,  27.7,  27.8,  27.9,  28. ,  28.1,\n",
       "        28.2,  28.3,  28.4,  28.5,  28.6,  28.7,  28.8,  28.9,  29. ,\n",
       "        29.1,  29.2,  29.3,  29.4,  29.5,  29.6,  29.7,  29.8,  29.9,\n",
       "        30. ,  30.1,  30.2,  30.3,  30.4,  30.5,  30.6,  30.7,  30.8,\n",
       "        30.9,  31.1,  31.2,  31.4,  31.5,  31.6,  31.7,  31.8,  31.9,\n",
       "        32. ,  32.1,  32.2,  32.3,  32.4,  32.5,  32.6,  32.7,  32.8,\n",
       "        32.9,  33. ])"
      ]
     },
     "execution_count": 54,
     "metadata": {},
     "output_type": "execute_result"
    }
   ],
   "source": [
    "a"
   ]
  },
  {
   "cell_type": "code",
   "execution_count": 55,
   "id": "da64985a",
   "metadata": {},
   "outputs": [
    {
     "data": {
      "text/plain": [
       "dtype('float64')"
      ]
     },
     "execution_count": 55,
     "metadata": {},
     "output_type": "execute_result"
    }
   ],
   "source": [
    "a.dtype"
   ]
  },
  {
   "cell_type": "code",
   "execution_count": 58,
   "id": "7f48335d",
   "metadata": {},
   "outputs": [
    {
     "data": {
      "text/plain": [
       "1"
      ]
     },
     "execution_count": 58,
     "metadata": {},
     "output_type": "execute_result"
    }
   ],
   "source": [
    "a.ndim"
   ]
  },
  {
   "cell_type": "code",
   "execution_count": 59,
   "id": "d117c4fd",
   "metadata": {},
   "outputs": [
    {
     "data": {
      "text/plain": [
       "(533,)"
      ]
     },
     "execution_count": 59,
     "metadata": {},
     "output_type": "execute_result"
    }
   ],
   "source": [
    "a.shape"
   ]
  },
  {
   "cell_type": "code",
   "execution_count": 60,
   "id": "c7f57b63",
   "metadata": {},
   "outputs": [
    {
     "data": {
      "text/plain": [
       "array([[-23.3, -23.2, -22.8, -22.2, -21.4, -21.3, -21.2, -21.1, -21. ,\n",
       "        -20.7, -20.6, -20.3, -20. , -19.9, -19.6, -19.5, -19.3, -19.2,\n",
       "        -19.1, -19. , -18.7, -18.6, -18.5, -18.4, -18.3, -18.2, -18.1,\n",
       "        -18. , -17.9, -17.8, -17.7, -17.6, -17.5, -17.4, -17.3, -17.2,\n",
       "        -17.1, -17. , -16.9, -16.8, -16.7, -16.6, -16.4, -16.3, -16.2,\n",
       "        -16.1, -16. , -15.9, -15.8, -15.7, -15.5, -15.4, -15.3, -15.2,\n",
       "        -15.1, -15. , -14.9, -14.8, -14.7, -14.6, -14.5, -14.4, -14.3,\n",
       "        -14.2, -14. , -13.9, -13.8, -13.7, -13.6, -13.5, -13.4, -13.3,\n",
       "        -13.2, -13.1, -13. , -12.9, -12.8, -12.7, -12.6, -12.5, -12.4,\n",
       "        -12.3, -12.2, -12.1, -12. , -11.9, -11.8, -11.7, -11.6, -11.5,\n",
       "        -11.4, -11.3, -11.2, -11.1, -11. , -10.9, -10.8, -10.7, -10.6,\n",
       "        -10.5, -10.4, -10.3, -10.2, -10.1, -10. ,  -9.9,  -9.8,  -9.7,\n",
       "         -9.6,  -9.5,  -9.4,  -9.3,  -9.2,  -9.1,  -9. ,  -8.9,  -8.8,\n",
       "         -8.7,  -8.6,  -8.5,  -8.4,  -8.3,  -8.2,  -8.1,  -8. ,  -7.9,\n",
       "         -7.8,  -7.7,  -7.6,  -7.5,  -7.4,  -7.3,  -7.2,  -7.1,  -7. ,\n",
       "         -6.9,  -6.8,  -6.7,  -6.6,  -6.5,  -6.4,  -6.3,  -6.2,  -6.1,\n",
       "         -6. ,  -5.9,  -5.8,  -5.7,  -5.6,  -5.5,  -5.4,  -5.3,  -5.2,\n",
       "         -5.1,  -5. ,  -4.9,  -4.8,  -4.7,  -4.6,  -4.5,  -4.4,  -4.3,\n",
       "         -4.2,  -4.1,  -4. ,  -3.9,  -3.8,  -3.7,  -3.6,  -3.5,  -3.4,\n",
       "         -3.3,  -3.2,  -3.1,  -3. ,  -2.9,  -2.8,  -2.7,  -2.6,  -2.5,\n",
       "         -2.4,  -2.3,  -2.2,  -2.1,  -2. ,  -1.9,  -1.8,  -1.7,  -1.6,\n",
       "         -1.5,  -1.4,  -1.3,  -1.2,  -1.1,  -1. ,  -0.9,  -0.8,  -0.7,\n",
       "         -0.6,  -0.5,  -0.4,  -0.3,  -0.2,  -0.1,   0. ,   0.1,   0.2,\n",
       "          0.3,   0.4,   0.5,   0.6,   0.7,   0.8,   0.9,   1. ,   1.1,\n",
       "          1.2,   1.3,   1.4,   1.5,   1.6,   1.7,   1.8,   1.9,   2. ,\n",
       "          2.1,   2.2,   2.3,   2.4,   2.5,   2.6,   2.7,   2.8,   2.9,\n",
       "          3. ,   3.1,   3.2,   3.3,   3.4,   3.5,   3.6,   3.7,   3.8,\n",
       "          3.9,   4. ,   4.1,   4.2,   4.3,   4.4,   4.5,   4.6,   4.7,\n",
       "          4.8,   4.9,   5. ,   5.1,   5.2,   5.3,   5.4,   5.5,   5.6,\n",
       "          5.7,   5.8,   5.9,   6. ,   6.1,   6.2,   6.3,   6.4,   6.5,\n",
       "          6.6,   6.7,   6.8,   6.9,   7. ,   7.1,   7.2,   7.3,   7.4,\n",
       "          7.5,   7.6,   7.7,   7.8,   7.9,   8. ,   8.1,   8.2,   8.3,\n",
       "          8.4,   8.5,   8.6,   8.7,   8.8,   8.9,   9. ,   9.1,   9.2,\n",
       "          9.3,   9.4,   9.5,   9.6,   9.7,   9.8,   9.9,  10. ,  10.1,\n",
       "         10.2,  10.3,  10.4,  10.5,  10.6,  10.7,  10.8,  10.9,  11. ,\n",
       "         11.1,  11.2,  11.3,  11.4,  11.5,  11.6,  11.7,  11.8,  11.9,\n",
       "         12. ,  12.1,  12.2,  12.3,  12.4,  12.5,  12.6,  12.7,  12.8,\n",
       "         12.9,  13. ,  13.1,  13.2,  13.3,  13.4,  13.5,  13.6,  13.7,\n",
       "         13.8,  13.9,  14. ,  14.1,  14.2,  14.3,  14.4,  14.5,  14.6,\n",
       "         14.7,  14.8,  14.9,  15. ,  15.1,  15.2,  15.3,  15.4,  15.5,\n",
       "         15.6,  15.7,  15.8,  15.9,  16. ,  16.1,  16.2,  16.3,  16.4,\n",
       "         16.5,  16.6,  16.7,  16.8,  16.9,  17. ,  17.1,  17.2,  17.3,\n",
       "         17.4,  17.5,  17.6,  17.7,  17.8,  17.9,  18. ,  18.1,  18.2,\n",
       "         18.3,  18.4,  18.5,  18.6,  18.7,  18.8,  18.9,  19. ,  19.1,\n",
       "         19.2,  19.3,  19.4,  19.5,  19.6,  19.7,  19.8,  19.9,  20. ,\n",
       "         20.1,  20.2,  20.3,  20.4,  20.5,  20.6,  20.7,  20.8,  20.9,\n",
       "         21. ,  21.1,  21.2,  21.3,  21.4,  21.5,  21.6,  21.7,  21.8,\n",
       "         21.9,  22. ,  22.1,  22.2,  22.3,  22.4,  22.5,  22.6,  22.7,\n",
       "         22.8,  22.9,  23. ,  23.1,  23.2,  23.3,  23.4,  23.5,  23.6,\n",
       "         23.7,  23.8,  23.9,  24. ,  24.1,  24.2,  24.3,  24.4,  24.5,\n",
       "         24.6,  24.7,  24.8,  24.9,  25. ,  25.1,  25.2,  25.3,  25.4,\n",
       "         25.5,  25.6,  25.7,  25.8,  25.9,  26. ,  26.1,  26.2,  26.3,\n",
       "         26.4,  26.5,  26.6,  26.7,  26.8,  26.9,  27. ,  27.1,  27.2,\n",
       "         27.3,  27.4,  27.5,  27.6,  27.7,  27.8,  27.9,  28. ,  28.1,\n",
       "         28.2,  28.3,  28.4,  28.5,  28.6,  28.7,  28.8,  28.9,  29. ,\n",
       "         29.1,  29.2,  29.3,  29.4,  29.5,  29.6,  29.7,  29.8,  29.9,\n",
       "         30. ,  30.1,  30.2,  30.3,  30.4,  30.5,  30.6,  30.7,  30.8,\n",
       "         30.9,  31.1,  31.2,  31.4,  31.5,  31.6,  31.7,  31.8,  31.9,\n",
       "         32. ,  32.1,  32.2,  32.3,  32.4,  32.5,  32.6,  32.7,  32.8,\n",
       "         32.9,  33. ]])"
      ]
     },
     "execution_count": 60,
     "metadata": {},
     "output_type": "execute_result"
    }
   ],
   "source": [
    "a.reshape(1,533)"
   ]
  },
  {
   "cell_type": "code",
   "execution_count": 61,
   "id": "22d9e2bc",
   "metadata": {},
   "outputs": [
    {
     "name": "stdout",
     "output_type": "stream",
     "text": [
      "1\n",
      "13\n",
      "41\n",
      "533\n"
     ]
    }
   ],
   "source": [
    "for i in range(1,534):\n",
    "    if 533%i == 0:\n",
    "        print(i)"
   ]
  },
  {
   "cell_type": "code",
   "execution_count": 63,
   "id": "7a1db3a9",
   "metadata": {},
   "outputs": [
    {
     "data": {
      "text/plain": [
       "13.0"
      ]
     },
     "execution_count": 63,
     "metadata": {},
     "output_type": "execute_result"
    }
   ],
   "source": [
    "\n",
    "533/41"
   ]
  },
  {
   "cell_type": "code",
   "execution_count": 64,
   "id": "82883661",
   "metadata": {},
   "outputs": [
    {
     "data": {
      "text/plain": [
       "41.0"
      ]
     },
     "execution_count": 64,
     "metadata": {},
     "output_type": "execute_result"
    }
   ],
   "source": [
    "533/13"
   ]
  },
  {
   "cell_type": "code",
   "execution_count": 65,
   "id": "4ecd7977",
   "metadata": {},
   "outputs": [
    {
     "data": {
      "text/plain": [
       "array([[-23.3, -23.2, -22.8, -22.2, -21.4, -21.3, -21.2, -21.1, -21. ,\n",
       "        -20.7, -20.6, -20.3, -20. , -19.9, -19.6, -19.5, -19.3, -19.2,\n",
       "        -19.1, -19. , -18.7, -18.6, -18.5, -18.4, -18.3, -18.2, -18.1,\n",
       "        -18. , -17.9, -17.8, -17.7, -17.6, -17.5, -17.4, -17.3, -17.2,\n",
       "        -17.1, -17. , -16.9, -16.8, -16.7],\n",
       "       [-16.6, -16.4, -16.3, -16.2, -16.1, -16. , -15.9, -15.8, -15.7,\n",
       "        -15.5, -15.4, -15.3, -15.2, -15.1, -15. , -14.9, -14.8, -14.7,\n",
       "        -14.6, -14.5, -14.4, -14.3, -14.2, -14. , -13.9, -13.8, -13.7,\n",
       "        -13.6, -13.5, -13.4, -13.3, -13.2, -13.1, -13. , -12.9, -12.8,\n",
       "        -12.7, -12.6, -12.5, -12.4, -12.3],\n",
       "       [-12.2, -12.1, -12. , -11.9, -11.8, -11.7, -11.6, -11.5, -11.4,\n",
       "        -11.3, -11.2, -11.1, -11. , -10.9, -10.8, -10.7, -10.6, -10.5,\n",
       "        -10.4, -10.3, -10.2, -10.1, -10. ,  -9.9,  -9.8,  -9.7,  -9.6,\n",
       "         -9.5,  -9.4,  -9.3,  -9.2,  -9.1,  -9. ,  -8.9,  -8.8,  -8.7,\n",
       "         -8.6,  -8.5,  -8.4,  -8.3,  -8.2],\n",
       "       [ -8.1,  -8. ,  -7.9,  -7.8,  -7.7,  -7.6,  -7.5,  -7.4,  -7.3,\n",
       "         -7.2,  -7.1,  -7. ,  -6.9,  -6.8,  -6.7,  -6.6,  -6.5,  -6.4,\n",
       "         -6.3,  -6.2,  -6.1,  -6. ,  -5.9,  -5.8,  -5.7,  -5.6,  -5.5,\n",
       "         -5.4,  -5.3,  -5.2,  -5.1,  -5. ,  -4.9,  -4.8,  -4.7,  -4.6,\n",
       "         -4.5,  -4.4,  -4.3,  -4.2,  -4.1],\n",
       "       [ -4. ,  -3.9,  -3.8,  -3.7,  -3.6,  -3.5,  -3.4,  -3.3,  -3.2,\n",
       "         -3.1,  -3. ,  -2.9,  -2.8,  -2.7,  -2.6,  -2.5,  -2.4,  -2.3,\n",
       "         -2.2,  -2.1,  -2. ,  -1.9,  -1.8,  -1.7,  -1.6,  -1.5,  -1.4,\n",
       "         -1.3,  -1.2,  -1.1,  -1. ,  -0.9,  -0.8,  -0.7,  -0.6,  -0.5,\n",
       "         -0.4,  -0.3,  -0.2,  -0.1,   0. ],\n",
       "       [  0.1,   0.2,   0.3,   0.4,   0.5,   0.6,   0.7,   0.8,   0.9,\n",
       "          1. ,   1.1,   1.2,   1.3,   1.4,   1.5,   1.6,   1.7,   1.8,\n",
       "          1.9,   2. ,   2.1,   2.2,   2.3,   2.4,   2.5,   2.6,   2.7,\n",
       "          2.8,   2.9,   3. ,   3.1,   3.2,   3.3,   3.4,   3.5,   3.6,\n",
       "          3.7,   3.8,   3.9,   4. ,   4.1],\n",
       "       [  4.2,   4.3,   4.4,   4.5,   4.6,   4.7,   4.8,   4.9,   5. ,\n",
       "          5.1,   5.2,   5.3,   5.4,   5.5,   5.6,   5.7,   5.8,   5.9,\n",
       "          6. ,   6.1,   6.2,   6.3,   6.4,   6.5,   6.6,   6.7,   6.8,\n",
       "          6.9,   7. ,   7.1,   7.2,   7.3,   7.4,   7.5,   7.6,   7.7,\n",
       "          7.8,   7.9,   8. ,   8.1,   8.2],\n",
       "       [  8.3,   8.4,   8.5,   8.6,   8.7,   8.8,   8.9,   9. ,   9.1,\n",
       "          9.2,   9.3,   9.4,   9.5,   9.6,   9.7,   9.8,   9.9,  10. ,\n",
       "         10.1,  10.2,  10.3,  10.4,  10.5,  10.6,  10.7,  10.8,  10.9,\n",
       "         11. ,  11.1,  11.2,  11.3,  11.4,  11.5,  11.6,  11.7,  11.8,\n",
       "         11.9,  12. ,  12.1,  12.2,  12.3],\n",
       "       [ 12.4,  12.5,  12.6,  12.7,  12.8,  12.9,  13. ,  13.1,  13.2,\n",
       "         13.3,  13.4,  13.5,  13.6,  13.7,  13.8,  13.9,  14. ,  14.1,\n",
       "         14.2,  14.3,  14.4,  14.5,  14.6,  14.7,  14.8,  14.9,  15. ,\n",
       "         15.1,  15.2,  15.3,  15.4,  15.5,  15.6,  15.7,  15.8,  15.9,\n",
       "         16. ,  16.1,  16.2,  16.3,  16.4],\n",
       "       [ 16.5,  16.6,  16.7,  16.8,  16.9,  17. ,  17.1,  17.2,  17.3,\n",
       "         17.4,  17.5,  17.6,  17.7,  17.8,  17.9,  18. ,  18.1,  18.2,\n",
       "         18.3,  18.4,  18.5,  18.6,  18.7,  18.8,  18.9,  19. ,  19.1,\n",
       "         19.2,  19.3,  19.4,  19.5,  19.6,  19.7,  19.8,  19.9,  20. ,\n",
       "         20.1,  20.2,  20.3,  20.4,  20.5],\n",
       "       [ 20.6,  20.7,  20.8,  20.9,  21. ,  21.1,  21.2,  21.3,  21.4,\n",
       "         21.5,  21.6,  21.7,  21.8,  21.9,  22. ,  22.1,  22.2,  22.3,\n",
       "         22.4,  22.5,  22.6,  22.7,  22.8,  22.9,  23. ,  23.1,  23.2,\n",
       "         23.3,  23.4,  23.5,  23.6,  23.7,  23.8,  23.9,  24. ,  24.1,\n",
       "         24.2,  24.3,  24.4,  24.5,  24.6],\n",
       "       [ 24.7,  24.8,  24.9,  25. ,  25.1,  25.2,  25.3,  25.4,  25.5,\n",
       "         25.6,  25.7,  25.8,  25.9,  26. ,  26.1,  26.2,  26.3,  26.4,\n",
       "         26.5,  26.6,  26.7,  26.8,  26.9,  27. ,  27.1,  27.2,  27.3,\n",
       "         27.4,  27.5,  27.6,  27.7,  27.8,  27.9,  28. ,  28.1,  28.2,\n",
       "         28.3,  28.4,  28.5,  28.6,  28.7],\n",
       "       [ 28.8,  28.9,  29. ,  29.1,  29.2,  29.3,  29.4,  29.5,  29.6,\n",
       "         29.7,  29.8,  29.9,  30. ,  30.1,  30.2,  30.3,  30.4,  30.5,\n",
       "         30.6,  30.7,  30.8,  30.9,  31.1,  31.2,  31.4,  31.5,  31.6,\n",
       "         31.7,  31.8,  31.9,  32. ,  32.1,  32.2,  32.3,  32.4,  32.5,\n",
       "         32.6,  32.7,  32.8,  32.9,  33. ]])"
      ]
     },
     "execution_count": 65,
     "metadata": {},
     "output_type": "execute_result"
    }
   ],
   "source": [
    "a.reshape(13,41)"
   ]
  },
  {
   "cell_type": "code",
   "execution_count": 66,
   "id": "434d74b0",
   "metadata": {},
   "outputs": [
    {
     "data": {
      "text/plain": [
       "array([[-23.3, -23.2, -22.8, -22.2, -21.4, -21.3, -21.2, -21.1, -21. ,\n",
       "        -20.7, -20.6, -20.3, -20. ],\n",
       "       [-19.9, -19.6, -19.5, -19.3, -19.2, -19.1, -19. , -18.7, -18.6,\n",
       "        -18.5, -18.4, -18.3, -18.2],\n",
       "       [-18.1, -18. , -17.9, -17.8, -17.7, -17.6, -17.5, -17.4, -17.3,\n",
       "        -17.2, -17.1, -17. , -16.9],\n",
       "       [-16.8, -16.7, -16.6, -16.4, -16.3, -16.2, -16.1, -16. , -15.9,\n",
       "        -15.8, -15.7, -15.5, -15.4],\n",
       "       [-15.3, -15.2, -15.1, -15. , -14.9, -14.8, -14.7, -14.6, -14.5,\n",
       "        -14.4, -14.3, -14.2, -14. ],\n",
       "       [-13.9, -13.8, -13.7, -13.6, -13.5, -13.4, -13.3, -13.2, -13.1,\n",
       "        -13. , -12.9, -12.8, -12.7],\n",
       "       [-12.6, -12.5, -12.4, -12.3, -12.2, -12.1, -12. , -11.9, -11.8,\n",
       "        -11.7, -11.6, -11.5, -11.4],\n",
       "       [-11.3, -11.2, -11.1, -11. , -10.9, -10.8, -10.7, -10.6, -10.5,\n",
       "        -10.4, -10.3, -10.2, -10.1],\n",
       "       [-10. ,  -9.9,  -9.8,  -9.7,  -9.6,  -9.5,  -9.4,  -9.3,  -9.2,\n",
       "         -9.1,  -9. ,  -8.9,  -8.8],\n",
       "       [ -8.7,  -8.6,  -8.5,  -8.4,  -8.3,  -8.2,  -8.1,  -8. ,  -7.9,\n",
       "         -7.8,  -7.7,  -7.6,  -7.5],\n",
       "       [ -7.4,  -7.3,  -7.2,  -7.1,  -7. ,  -6.9,  -6.8,  -6.7,  -6.6,\n",
       "         -6.5,  -6.4,  -6.3,  -6.2],\n",
       "       [ -6.1,  -6. ,  -5.9,  -5.8,  -5.7,  -5.6,  -5.5,  -5.4,  -5.3,\n",
       "         -5.2,  -5.1,  -5. ,  -4.9],\n",
       "       [ -4.8,  -4.7,  -4.6,  -4.5,  -4.4,  -4.3,  -4.2,  -4.1,  -4. ,\n",
       "         -3.9,  -3.8,  -3.7,  -3.6],\n",
       "       [ -3.5,  -3.4,  -3.3,  -3.2,  -3.1,  -3. ,  -2.9,  -2.8,  -2.7,\n",
       "         -2.6,  -2.5,  -2.4,  -2.3],\n",
       "       [ -2.2,  -2.1,  -2. ,  -1.9,  -1.8,  -1.7,  -1.6,  -1.5,  -1.4,\n",
       "         -1.3,  -1.2,  -1.1,  -1. ],\n",
       "       [ -0.9,  -0.8,  -0.7,  -0.6,  -0.5,  -0.4,  -0.3,  -0.2,  -0.1,\n",
       "          0. ,   0.1,   0.2,   0.3],\n",
       "       [  0.4,   0.5,   0.6,   0.7,   0.8,   0.9,   1. ,   1.1,   1.2,\n",
       "          1.3,   1.4,   1.5,   1.6],\n",
       "       [  1.7,   1.8,   1.9,   2. ,   2.1,   2.2,   2.3,   2.4,   2.5,\n",
       "          2.6,   2.7,   2.8,   2.9],\n",
       "       [  3. ,   3.1,   3.2,   3.3,   3.4,   3.5,   3.6,   3.7,   3.8,\n",
       "          3.9,   4. ,   4.1,   4.2],\n",
       "       [  4.3,   4.4,   4.5,   4.6,   4.7,   4.8,   4.9,   5. ,   5.1,\n",
       "          5.2,   5.3,   5.4,   5.5],\n",
       "       [  5.6,   5.7,   5.8,   5.9,   6. ,   6.1,   6.2,   6.3,   6.4,\n",
       "          6.5,   6.6,   6.7,   6.8],\n",
       "       [  6.9,   7. ,   7.1,   7.2,   7.3,   7.4,   7.5,   7.6,   7.7,\n",
       "          7.8,   7.9,   8. ,   8.1],\n",
       "       [  8.2,   8.3,   8.4,   8.5,   8.6,   8.7,   8.8,   8.9,   9. ,\n",
       "          9.1,   9.2,   9.3,   9.4],\n",
       "       [  9.5,   9.6,   9.7,   9.8,   9.9,  10. ,  10.1,  10.2,  10.3,\n",
       "         10.4,  10.5,  10.6,  10.7],\n",
       "       [ 10.8,  10.9,  11. ,  11.1,  11.2,  11.3,  11.4,  11.5,  11.6,\n",
       "         11.7,  11.8,  11.9,  12. ],\n",
       "       [ 12.1,  12.2,  12.3,  12.4,  12.5,  12.6,  12.7,  12.8,  12.9,\n",
       "         13. ,  13.1,  13.2,  13.3],\n",
       "       [ 13.4,  13.5,  13.6,  13.7,  13.8,  13.9,  14. ,  14.1,  14.2,\n",
       "         14.3,  14.4,  14.5,  14.6],\n",
       "       [ 14.7,  14.8,  14.9,  15. ,  15.1,  15.2,  15.3,  15.4,  15.5,\n",
       "         15.6,  15.7,  15.8,  15.9],\n",
       "       [ 16. ,  16.1,  16.2,  16.3,  16.4,  16.5,  16.6,  16.7,  16.8,\n",
       "         16.9,  17. ,  17.1,  17.2],\n",
       "       [ 17.3,  17.4,  17.5,  17.6,  17.7,  17.8,  17.9,  18. ,  18.1,\n",
       "         18.2,  18.3,  18.4,  18.5],\n",
       "       [ 18.6,  18.7,  18.8,  18.9,  19. ,  19.1,  19.2,  19.3,  19.4,\n",
       "         19.5,  19.6,  19.7,  19.8],\n",
       "       [ 19.9,  20. ,  20.1,  20.2,  20.3,  20.4,  20.5,  20.6,  20.7,\n",
       "         20.8,  20.9,  21. ,  21.1],\n",
       "       [ 21.2,  21.3,  21.4,  21.5,  21.6,  21.7,  21.8,  21.9,  22. ,\n",
       "         22.1,  22.2,  22.3,  22.4],\n",
       "       [ 22.5,  22.6,  22.7,  22.8,  22.9,  23. ,  23.1,  23.2,  23.3,\n",
       "         23.4,  23.5,  23.6,  23.7],\n",
       "       [ 23.8,  23.9,  24. ,  24.1,  24.2,  24.3,  24.4,  24.5,  24.6,\n",
       "         24.7,  24.8,  24.9,  25. ],\n",
       "       [ 25.1,  25.2,  25.3,  25.4,  25.5,  25.6,  25.7,  25.8,  25.9,\n",
       "         26. ,  26.1,  26.2,  26.3],\n",
       "       [ 26.4,  26.5,  26.6,  26.7,  26.8,  26.9,  27. ,  27.1,  27.2,\n",
       "         27.3,  27.4,  27.5,  27.6],\n",
       "       [ 27.7,  27.8,  27.9,  28. ,  28.1,  28.2,  28.3,  28.4,  28.5,\n",
       "         28.6,  28.7,  28.8,  28.9],\n",
       "       [ 29. ,  29.1,  29.2,  29.3,  29.4,  29.5,  29.6,  29.7,  29.8,\n",
       "         29.9,  30. ,  30.1,  30.2],\n",
       "       [ 30.3,  30.4,  30.5,  30.6,  30.7,  30.8,  30.9,  31.1,  31.2,\n",
       "         31.4,  31.5,  31.6,  31.7],\n",
       "       [ 31.8,  31.9,  32. ,  32.1,  32.2,  32.3,  32.4,  32.5,  32.6,\n",
       "         32.7,  32.8,  32.9,  33. ]])"
      ]
     },
     "execution_count": 66,
     "metadata": {},
     "output_type": "execute_result"
    }
   ],
   "source": [
    "a.reshape(41,13)"
   ]
  },
  {
   "cell_type": "code",
   "execution_count": 67,
   "id": "a4750a71",
   "metadata": {},
   "outputs": [
    {
     "data": {
      "text/plain": [
       "array([-23.3, -23.2, -22.8, -22.2, -21.4, -21.3, -21.2, -21.1, -21. ,\n",
       "       -20.7, -20.6, -20.3, -20. , -19.9, -19.6, -19.5, -19.3, -19.2,\n",
       "       -19.1, -19. , -18.7, -18.6, -18.5, -18.4, -18.3, -18.2, -18.1,\n",
       "       -18. , -17.9, -17.8, -17.7, -17.6, -17.5, -17.4, -17.3, -17.2,\n",
       "       -17.1, -17. , -16.9, -16.8, -16.7, -16.6, -16.4, -16.3, -16.2,\n",
       "       -16.1, -16. , -15.9, -15.8, -15.7, -15.5, -15.4, -15.3, -15.2,\n",
       "       -15.1, -15. , -14.9, -14.8, -14.7, -14.6, -14.5, -14.4, -14.3,\n",
       "       -14.2, -14. , -13.9, -13.8, -13.7, -13.6, -13.5, -13.4, -13.3,\n",
       "       -13.2, -13.1, -13. , -12.9, -12.8, -12.7, -12.6, -12.5, -12.4,\n",
       "       -12.3, -12.2, -12.1, -12. , -11.9, -11.8, -11.7, -11.6, -11.5,\n",
       "       -11.4, -11.3, -11.2, -11.1, -11. , -10.9, -10.8, -10.7, -10.6,\n",
       "       -10.5, -10.4, -10.3, -10.2, -10.1, -10. ,  -9.9,  -9.8,  -9.7,\n",
       "        -9.6,  -9.5,  -9.4,  -9.3,  -9.2,  -9.1,  -9. ,  -8.9,  -8.8,\n",
       "        -8.7,  -8.6,  -8.5,  -8.4,  -8.3,  -8.2,  -8.1,  -8. ,  -7.9,\n",
       "        -7.8,  -7.7,  -7.6,  -7.5,  -7.4,  -7.3,  -7.2,  -7.1,  -7. ,\n",
       "        -6.9,  -6.8,  -6.7,  -6.6,  -6.5,  -6.4,  -6.3,  -6.2,  -6.1,\n",
       "        -6. ,  -5.9,  -5.8,  -5.7,  -5.6,  -5.5,  -5.4,  -5.3,  -5.2,\n",
       "        -5.1,  -5. ,  -4.9,  -4.8,  -4.7,  -4.6,  -4.5,  -4.4,  -4.3,\n",
       "        -4.2,  -4.1,  -4. ,  -3.9,  -3.8,  -3.7,  -3.6,  -3.5,  -3.4,\n",
       "        -3.3,  -3.2,  -3.1,  -3. ,  -2.9,  -2.8,  -2.7,  -2.6,  -2.5,\n",
       "        -2.4,  -2.3,  -2.2,  -2.1,  -2. ,  -1.9,  -1.8,  -1.7,  -1.6,\n",
       "        -1.5,  -1.4,  -1.3,  -1.2,  -1.1,  -1. ,  -0.9,  -0.8,  -0.7,\n",
       "        -0.6,  -0.5,  -0.4,  -0.3,  -0.2,  -0.1,   0. ,   0.1,   0.2,\n",
       "         0.3,   0.4,   0.5,   0.6,   0.7,   0.8,   0.9,   1. ,   1.1,\n",
       "         1.2,   1.3,   1.4,   1.5,   1.6,   1.7,   1.8,   1.9,   2. ,\n",
       "         2.1,   2.2,   2.3,   2.4,   2.5,   2.6,   2.7,   2.8,   2.9,\n",
       "         3. ,   3.1,   3.2,   3.3,   3.4,   3.5,   3.6,   3.7,   3.8,\n",
       "         3.9,   4. ,   4.1,   4.2,   4.3,   4.4,   4.5,   4.6,   4.7,\n",
       "         4.8,   4.9,   5. ,   5.1,   5.2,   5.3,   5.4,   5.5,   5.6,\n",
       "         5.7,   5.8,   5.9,   6. ,   6.1,   6.2,   6.3,   6.4,   6.5,\n",
       "         6.6,   6.7,   6.8,   6.9,   7. ,   7.1,   7.2,   7.3,   7.4,\n",
       "         7.5,   7.6,   7.7,   7.8,   7.9,   8. ,   8.1,   8.2,   8.3,\n",
       "         8.4,   8.5,   8.6,   8.7,   8.8,   8.9,   9. ,   9.1,   9.2,\n",
       "         9.3,   9.4,   9.5,   9.6,   9.7,   9.8,   9.9,  10. ,  10.1,\n",
       "        10.2,  10.3,  10.4,  10.5,  10.6,  10.7,  10.8,  10.9,  11. ,\n",
       "        11.1,  11.2,  11.3,  11.4,  11.5,  11.6,  11.7,  11.8,  11.9,\n",
       "        12. ,  12.1,  12.2,  12.3,  12.4,  12.5,  12.6,  12.7,  12.8,\n",
       "        12.9,  13. ,  13.1,  13.2,  13.3,  13.4,  13.5,  13.6,  13.7,\n",
       "        13.8,  13.9,  14. ,  14.1,  14.2,  14.3,  14.4,  14.5,  14.6,\n",
       "        14.7,  14.8,  14.9,  15. ,  15.1,  15.2,  15.3,  15.4,  15.5,\n",
       "        15.6,  15.7,  15.8,  15.9,  16. ,  16.1,  16.2,  16.3,  16.4,\n",
       "        16.5,  16.6,  16.7,  16.8,  16.9,  17. ,  17.1,  17.2,  17.3,\n",
       "        17.4,  17.5,  17.6,  17.7,  17.8,  17.9,  18. ,  18.1,  18.2,\n",
       "        18.3,  18.4,  18.5,  18.6,  18.7,  18.8,  18.9,  19. ,  19.1,\n",
       "        19.2,  19.3,  19.4,  19.5,  19.6,  19.7,  19.8,  19.9,  20. ,\n",
       "        20.1,  20.2,  20.3,  20.4,  20.5,  20.6,  20.7,  20.8,  20.9,\n",
       "        21. ,  21.1,  21.2,  21.3,  21.4,  21.5,  21.6,  21.7,  21.8,\n",
       "        21.9,  22. ,  22.1,  22.2,  22.3,  22.4,  22.5,  22.6,  22.7,\n",
       "        22.8,  22.9,  23. ,  23.1,  23.2,  23.3,  23.4,  23.5,  23.6,\n",
       "        23.7,  23.8,  23.9,  24. ,  24.1,  24.2,  24.3,  24.4,  24.5,\n",
       "        24.6,  24.7,  24.8,  24.9,  25. ,  25.1,  25.2,  25.3,  25.4,\n",
       "        25.5,  25.6,  25.7,  25.8,  25.9,  26. ,  26.1,  26.2,  26.3,\n",
       "        26.4,  26.5,  26.6,  26.7,  26.8,  26.9,  27. ,  27.1,  27.2,\n",
       "        27.3,  27.4,  27.5,  27.6,  27.7,  27.8,  27.9,  28. ,  28.1,\n",
       "        28.2,  28.3,  28.4,  28.5,  28.6,  28.7,  28.8,  28.9,  29. ,\n",
       "        29.1,  29.2,  29.3,  29.4,  29.5,  29.6,  29.7,  29.8,  29.9,\n",
       "        30. ,  30.1,  30.2,  30.3,  30.4,  30.5,  30.6,  30.7,  30.8,\n",
       "        30.9,  31.1,  31.2,  31.4,  31.5,  31.6,  31.7,  31.8,  31.9,\n",
       "        32. ,  32.1,  32.2,  32.3,  32.4,  32.5,  32.6,  32.7,  32.8,\n",
       "        32.9,  33. ])"
      ]
     },
     "execution_count": 67,
     "metadata": {},
     "output_type": "execute_result"
    }
   ],
   "source": [
    "a.ravel()"
   ]
  },
  {
   "cell_type": "code",
   "execution_count": 68,
   "id": "b91c4738",
   "metadata": {},
   "outputs": [
    {
     "data": {
      "text/plain": [
       "1"
      ]
     },
     "execution_count": 68,
     "metadata": {},
     "output_type": "execute_result"
    }
   ],
   "source": [
    "a.ndim"
   ]
  },
  {
   "cell_type": "code",
   "execution_count": 72,
   "id": "44b3ea36",
   "metadata": {},
   "outputs": [],
   "source": [
    "b = a.reshape(41,13)"
   ]
  },
  {
   "cell_type": "code",
   "execution_count": 70,
   "id": "74b73daf",
   "metadata": {},
   "outputs": [
    {
     "data": {
      "text/plain": [
       "1"
      ]
     },
     "execution_count": 70,
     "metadata": {},
     "output_type": "execute_result"
    }
   ],
   "source": [
    "a.ndim"
   ]
  },
  {
   "cell_type": "code",
   "execution_count": 71,
   "id": "847fab5a",
   "metadata": {},
   "outputs": [
    {
     "data": {
      "text/plain": [
       "(533,)"
      ]
     },
     "execution_count": 71,
     "metadata": {},
     "output_type": "execute_result"
    }
   ],
   "source": [
    "a.shape"
   ]
  },
  {
   "cell_type": "code",
   "execution_count": 73,
   "id": "9fdaa646",
   "metadata": {},
   "outputs": [
    {
     "data": {
      "text/plain": [
       "(41, 13)"
      ]
     },
     "execution_count": 73,
     "metadata": {},
     "output_type": "execute_result"
    }
   ],
   "source": [
    "b.shape"
   ]
  },
  {
   "cell_type": "code",
   "execution_count": 74,
   "id": "c8d25272",
   "metadata": {},
   "outputs": [
    {
     "data": {
      "text/plain": [
       "2"
      ]
     },
     "execution_count": 74,
     "metadata": {},
     "output_type": "execute_result"
    }
   ],
   "source": [
    "b.ndim"
   ]
  },
  {
   "cell_type": "code",
   "execution_count": 75,
   "id": "55e4572a",
   "metadata": {},
   "outputs": [
    {
     "data": {
      "text/plain": [
       "(41, 13)"
      ]
     },
     "execution_count": 75,
     "metadata": {},
     "output_type": "execute_result"
    }
   ],
   "source": [
    "b.shape"
   ]
  },
  {
   "cell_type": "code",
   "execution_count": 76,
   "id": "ef8ca26e",
   "metadata": {},
   "outputs": [
    {
     "data": {
      "text/plain": [
       "array([[-7.4, -7.3, -7.2, -7.1, -7. , -6.9, -6.8, -6.7, -6.6, -6.5, -6.4,\n",
       "        -6.3, -6.2],\n",
       "       [-6.1, -6. , -5.9, -5.8, -5.7, -5.6, -5.5, -5.4, -5.3, -5.2, -5.1,\n",
       "        -5. , -4.9],\n",
       "       [-4.8, -4.7, -4.6, -4.5, -4.4, -4.3, -4.2, -4.1, -4. , -3.9, -3.8,\n",
       "        -3.7, -3.6],\n",
       "       [-3.5, -3.4, -3.3, -3.2, -3.1, -3. , -2.9, -2.8, -2.7, -2.6, -2.5,\n",
       "        -2.4, -2.3],\n",
       "       [-2.2, -2.1, -2. , -1.9, -1.8, -1.7, -1.6, -1.5, -1.4, -1.3, -1.2,\n",
       "        -1.1, -1. ],\n",
       "       [-0.9, -0.8, -0.7, -0.6, -0.5, -0.4, -0.3, -0.2, -0.1,  0. ,  0.1,\n",
       "         0.2,  0.3],\n",
       "       [ 0.4,  0.5,  0.6,  0.7,  0.8,  0.9,  1. ,  1.1,  1.2,  1.3,  1.4,\n",
       "         1.5,  1.6],\n",
       "       [ 1.7,  1.8,  1.9,  2. ,  2.1,  2.2,  2.3,  2.4,  2.5,  2.6,  2.7,\n",
       "         2.8,  2.9],\n",
       "       [ 3. ,  3.1,  3.2,  3.3,  3.4,  3.5,  3.6,  3.7,  3.8,  3.9,  4. ,\n",
       "         4.1,  4.2],\n",
       "       [ 4.3,  4.4,  4.5,  4.6,  4.7,  4.8,  4.9,  5. ,  5.1,  5.2,  5.3,\n",
       "         5.4,  5.5],\n",
       "       [ 5.6,  5.7,  5.8,  5.9,  6. ,  6.1,  6.2,  6.3,  6.4,  6.5,  6.6,\n",
       "         6.7,  6.8]])"
      ]
     },
     "execution_count": 76,
     "metadata": {},
     "output_type": "execute_result"
    }
   ],
   "source": [
    "b[10:21]"
   ]
  },
  {
   "cell_type": "code",
   "execution_count": 77,
   "id": "7d79cfb3",
   "metadata": {},
   "outputs": [
    {
     "data": {
      "text/plain": [
       "array([-13.5, -13.3, -13.1, -12.9, -12.7, -12.5, -12.3, -12.1, -11.9,\n",
       "       -11.7, -11.5, -11.3, -11.1])"
      ]
     },
     "execution_count": 77,
     "metadata": {},
     "output_type": "execute_result"
    }
   ],
   "source": [
    "b[10]+b[11]"
   ]
  },
  {
   "cell_type": "code",
   "execution_count": 78,
   "id": "44c29047",
   "metadata": {},
   "outputs": [
    {
     "data": {
      "text/plain": [
       "41"
      ]
     },
     "execution_count": 78,
     "metadata": {},
     "output_type": "execute_result"
    }
   ],
   "source": [
    "len(b)\n",
    "    "
   ]
  },
  {
   "cell_type": "code",
   "execution_count": 84,
   "id": "27fa827c",
   "metadata": {},
   "outputs": [],
   "source": [
    "c = np.array(b,dtype = 'int64')"
   ]
  },
  {
   "cell_type": "code",
   "execution_count": 85,
   "id": "83f5c726",
   "metadata": {},
   "outputs": [
    {
     "data": {
      "text/plain": [
       "array([[-23, -23, -22, -22, -21, -21, -21, -21, -21, -20, -20, -20, -20],\n",
       "       [-19, -19, -19, -19, -19, -19, -19, -18, -18, -18, -18, -18, -18],\n",
       "       [-18, -18, -17, -17, -17, -17, -17, -17, -17, -17, -17, -17, -16],\n",
       "       [-16, -16, -16, -16, -16, -16, -16, -16, -15, -15, -15, -15, -15],\n",
       "       [-15, -15, -15, -15, -14, -14, -14, -14, -14, -14, -14, -14, -14],\n",
       "       [-13, -13, -13, -13, -13, -13, -13, -13, -13, -13, -12, -12, -12],\n",
       "       [-12, -12, -12, -12, -12, -12, -12, -11, -11, -11, -11, -11, -11],\n",
       "       [-11, -11, -11, -11, -10, -10, -10, -10, -10, -10, -10, -10, -10],\n",
       "       [-10,  -9,  -9,  -9,  -9,  -9,  -9,  -9,  -9,  -9,  -9,  -8,  -8],\n",
       "       [ -8,  -8,  -8,  -8,  -8,  -8,  -8,  -8,  -7,  -7,  -7,  -7,  -7],\n",
       "       [ -7,  -7,  -7,  -7,  -7,  -6,  -6,  -6,  -6,  -6,  -6,  -6,  -6],\n",
       "       [ -6,  -6,  -5,  -5,  -5,  -5,  -5,  -5,  -5,  -5,  -5,  -5,  -4],\n",
       "       [ -4,  -4,  -4,  -4,  -4,  -4,  -4,  -4,  -4,  -3,  -3,  -3,  -3],\n",
       "       [ -3,  -3,  -3,  -3,  -3,  -3,  -2,  -2,  -2,  -2,  -2,  -2,  -2],\n",
       "       [ -2,  -2,  -2,  -1,  -1,  -1,  -1,  -1,  -1,  -1,  -1,  -1,  -1],\n",
       "       [  0,   0,   0,   0,   0,   0,   0,   0,   0,   0,   0,   0,   0],\n",
       "       [  0,   0,   0,   0,   0,   0,   1,   1,   1,   1,   1,   1,   1],\n",
       "       [  1,   1,   1,   2,   2,   2,   2,   2,   2,   2,   2,   2,   2],\n",
       "       [  3,   3,   3,   3,   3,   3,   3,   3,   3,   3,   4,   4,   4],\n",
       "       [  4,   4,   4,   4,   4,   4,   4,   5,   5,   5,   5,   5,   5],\n",
       "       [  5,   5,   5,   5,   6,   6,   6,   6,   6,   6,   6,   6,   6],\n",
       "       [  6,   7,   7,   7,   7,   7,   7,   7,   7,   7,   7,   8,   8],\n",
       "       [  8,   8,   8,   8,   8,   8,   8,   8,   9,   9,   9,   9,   9],\n",
       "       [  9,   9,   9,   9,   9,  10,  10,  10,  10,  10,  10,  10,  10],\n",
       "       [ 10,  10,  11,  11,  11,  11,  11,  11,  11,  11,  11,  11,  12],\n",
       "       [ 12,  12,  12,  12,  12,  12,  12,  12,  12,  13,  13,  13,  13],\n",
       "       [ 13,  13,  13,  13,  13,  13,  14,  14,  14,  14,  14,  14,  14],\n",
       "       [ 14,  14,  14,  15,  15,  15,  15,  15,  15,  15,  15,  15,  15],\n",
       "       [ 16,  16,  16,  16,  16,  16,  16,  16,  16,  16,  17,  17,  17],\n",
       "       [ 17,  17,  17,  17,  17,  17,  17,  18,  18,  18,  18,  18,  18],\n",
       "       [ 18,  18,  18,  18,  19,  19,  19,  19,  19,  19,  19,  19,  19],\n",
       "       [ 19,  20,  20,  20,  20,  20,  20,  20,  20,  20,  20,  21,  21],\n",
       "       [ 21,  21,  21,  21,  21,  21,  21,  21,  22,  22,  22,  22,  22],\n",
       "       [ 22,  22,  22,  22,  22,  23,  23,  23,  23,  23,  23,  23,  23],\n",
       "       [ 23,  23,  24,  24,  24,  24,  24,  24,  24,  24,  24,  24,  25],\n",
       "       [ 25,  25,  25,  25,  25,  25,  25,  25,  25,  26,  26,  26,  26],\n",
       "       [ 26,  26,  26,  26,  26,  26,  27,  27,  27,  27,  27,  27,  27],\n",
       "       [ 27,  27,  27,  28,  28,  28,  28,  28,  28,  28,  28,  28,  28],\n",
       "       [ 29,  29,  29,  29,  29,  29,  29,  29,  29,  29,  30,  30,  30],\n",
       "       [ 30,  30,  30,  30,  30,  30,  30,  31,  31,  31,  31,  31,  31],\n",
       "       [ 31,  31,  32,  32,  32,  32,  32,  32,  32,  32,  32,  32,  33]],\n",
       "      dtype=int64)"
      ]
     },
     "execution_count": 85,
     "metadata": {},
     "output_type": "execute_result"
    }
   ],
   "source": [
    "c"
   ]
  },
  {
   "cell_type": "code",
   "execution_count": 86,
   "id": "a7dfc4e7",
   "metadata": {},
   "outputs": [
    {
     "data": {
      "text/plain": [
       "dtype('int64')"
      ]
     },
     "execution_count": 86,
     "metadata": {},
     "output_type": "execute_result"
    }
   ],
   "source": [
    "c.dtype"
   ]
  },
  {
   "cell_type": "code",
   "execution_count": 87,
   "id": "16b49128",
   "metadata": {},
   "outputs": [],
   "source": [
    "d= c.view()"
   ]
  },
  {
   "cell_type": "code",
   "execution_count": 88,
   "id": "3e895619",
   "metadata": {},
   "outputs": [
    {
     "data": {
      "text/plain": [
       "array([[-23, -23, -22, -22, -21, -21, -21, -21, -21, -20, -20, -20, -20],\n",
       "       [-19, -19, -19, -19, -19, -19, -19, -18, -18, -18, -18, -18, -18],\n",
       "       [-18, -18, -17, -17, -17, -17, -17, -17, -17, -17, -17, -17, -16],\n",
       "       [-16, -16, -16, -16, -16, -16, -16, -16, -15, -15, -15, -15, -15],\n",
       "       [-15, -15, -15, -15, -14, -14, -14, -14, -14, -14, -14, -14, -14],\n",
       "       [-13, -13, -13, -13, -13, -13, -13, -13, -13, -13, -12, -12, -12],\n",
       "       [-12, -12, -12, -12, -12, -12, -12, -11, -11, -11, -11, -11, -11],\n",
       "       [-11, -11, -11, -11, -10, -10, -10, -10, -10, -10, -10, -10, -10],\n",
       "       [-10,  -9,  -9,  -9,  -9,  -9,  -9,  -9,  -9,  -9,  -9,  -8,  -8],\n",
       "       [ -8,  -8,  -8,  -8,  -8,  -8,  -8,  -8,  -7,  -7,  -7,  -7,  -7],\n",
       "       [ -7,  -7,  -7,  -7,  -7,  -6,  -6,  -6,  -6,  -6,  -6,  -6,  -6],\n",
       "       [ -6,  -6,  -5,  -5,  -5,  -5,  -5,  -5,  -5,  -5,  -5,  -5,  -4],\n",
       "       [ -4,  -4,  -4,  -4,  -4,  -4,  -4,  -4,  -4,  -3,  -3,  -3,  -3],\n",
       "       [ -3,  -3,  -3,  -3,  -3,  -3,  -2,  -2,  -2,  -2,  -2,  -2,  -2],\n",
       "       [ -2,  -2,  -2,  -1,  -1,  -1,  -1,  -1,  -1,  -1,  -1,  -1,  -1],\n",
       "       [  0,   0,   0,   0,   0,   0,   0,   0,   0,   0,   0,   0,   0],\n",
       "       [  0,   0,   0,   0,   0,   0,   1,   1,   1,   1,   1,   1,   1],\n",
       "       [  1,   1,   1,   2,   2,   2,   2,   2,   2,   2,   2,   2,   2],\n",
       "       [  3,   3,   3,   3,   3,   3,   3,   3,   3,   3,   4,   4,   4],\n",
       "       [  4,   4,   4,   4,   4,   4,   4,   5,   5,   5,   5,   5,   5],\n",
       "       [  5,   5,   5,   5,   6,   6,   6,   6,   6,   6,   6,   6,   6],\n",
       "       [  6,   7,   7,   7,   7,   7,   7,   7,   7,   7,   7,   8,   8],\n",
       "       [  8,   8,   8,   8,   8,   8,   8,   8,   9,   9,   9,   9,   9],\n",
       "       [  9,   9,   9,   9,   9,  10,  10,  10,  10,  10,  10,  10,  10],\n",
       "       [ 10,  10,  11,  11,  11,  11,  11,  11,  11,  11,  11,  11,  12],\n",
       "       [ 12,  12,  12,  12,  12,  12,  12,  12,  12,  13,  13,  13,  13],\n",
       "       [ 13,  13,  13,  13,  13,  13,  14,  14,  14,  14,  14,  14,  14],\n",
       "       [ 14,  14,  14,  15,  15,  15,  15,  15,  15,  15,  15,  15,  15],\n",
       "       [ 16,  16,  16,  16,  16,  16,  16,  16,  16,  16,  17,  17,  17],\n",
       "       [ 17,  17,  17,  17,  17,  17,  17,  18,  18,  18,  18,  18,  18],\n",
       "       [ 18,  18,  18,  18,  19,  19,  19,  19,  19,  19,  19,  19,  19],\n",
       "       [ 19,  20,  20,  20,  20,  20,  20,  20,  20,  20,  20,  21,  21],\n",
       "       [ 21,  21,  21,  21,  21,  21,  21,  21,  22,  22,  22,  22,  22],\n",
       "       [ 22,  22,  22,  22,  22,  23,  23,  23,  23,  23,  23,  23,  23],\n",
       "       [ 23,  23,  24,  24,  24,  24,  24,  24,  24,  24,  24,  24,  25],\n",
       "       [ 25,  25,  25,  25,  25,  25,  25,  25,  25,  26,  26,  26,  26],\n",
       "       [ 26,  26,  26,  26,  26,  26,  27,  27,  27,  27,  27,  27,  27],\n",
       "       [ 27,  27,  27,  28,  28,  28,  28,  28,  28,  28,  28,  28,  28],\n",
       "       [ 29,  29,  29,  29,  29,  29,  29,  29,  29,  29,  30,  30,  30],\n",
       "       [ 30,  30,  30,  30,  30,  30,  30,  31,  31,  31,  31,  31,  31],\n",
       "       [ 31,  31,  32,  32,  32,  32,  32,  32,  32,  32,  32,  32,  33]],\n",
       "      dtype=int64)"
      ]
     },
     "execution_count": 88,
     "metadata": {},
     "output_type": "execute_result"
    }
   ],
   "source": [
    "d"
   ]
  },
  {
   "cell_type": "code",
   "execution_count": 89,
   "id": "fdf54b9c",
   "metadata": {},
   "outputs": [
    {
     "data": {
      "text/plain": [
       "array([[-23, -23, -22, -22, -21, -21, -21, -21, -21, -20, -20, -20, -20],\n",
       "       [-19, -19, -19, -19, -19, -19, -19, -18, -18, -18, -18, -18, -18],\n",
       "       [-18, -18, -17, -17, -17, -17, -17, -17, -17, -17, -17, -17, -16],\n",
       "       [-16, -16, -16, -16, -16, -16, -16, -16, -15, -15, -15, -15, -15],\n",
       "       [-15, -15, -15, -15, -14, -14, -14, -14, -14, -14, -14, -14, -14],\n",
       "       [-13, -13, -13, -13, -13, -13, -13, -13, -13, -13, -12, -12, -12],\n",
       "       [-12, -12, -12, -12, -12, -12, -12, -11, -11, -11, -11, -11, -11],\n",
       "       [-11, -11, -11, -11, -10, -10, -10, -10, -10, -10, -10, -10, -10],\n",
       "       [-10,  -9,  -9,  -9,  -9,  -9,  -9,  -9,  -9,  -9,  -9,  -8,  -8],\n",
       "       [ -8,  -8,  -8,  -8,  -8,  -8,  -8,  -8,  -7,  -7,  -7,  -7,  -7],\n",
       "       [ -7,  -7,  -7,  -7,  -7,  -6,  -6,  -6,  -6,  -6,  -6,  -6,  -6],\n",
       "       [ -6,  -6,  -5,  -5,  -5,  -5,  -5,  -5,  -5,  -5,  -5,  -5,  -4],\n",
       "       [ -4,  -4,  -4,  -4,  -4,  -4,  -4,  -4,  -4,  -3,  -3,  -3,  -3],\n",
       "       [ -3,  -3,  -3,  -3,  -3,  -3,  -2,  -2,  -2,  -2,  -2,  -2,  -2],\n",
       "       [ -2,  -2,  -2,  -1,  -1,  -1,  -1,  -1,  -1,  -1,  -1,  -1,  -1],\n",
       "       [  0,   0,   0,   0,   0,   0,   0,   0,   0,   0,   0,   0,   0],\n",
       "       [  0,   0,   0,   0,   0,   0,   1,   1,   1,   1,   1,   1,   1],\n",
       "       [  1,   1,   1,   2,   2,   2,   2,   2,   2,   2,   2,   2,   2],\n",
       "       [  3,   3,   3,   3,   3,   3,   3,   3,   3,   3,   4,   4,   4],\n",
       "       [  4,   4,   4,   4,   4,   4,   4,   5,   5,   5,   5,   5,   5],\n",
       "       [  5,   5,   5,   5,   6,   6,   6,   6,   6,   6,   6,   6,   6],\n",
       "       [  6,   7,   7,   7,   7,   7,   7,   7,   7,   7,   7,   8,   8],\n",
       "       [  8,   8,   8,   8,   8,   8,   8,   8,   9,   9,   9,   9,   9],\n",
       "       [  9,   9,   9,   9,   9,  10,  10,  10,  10,  10,  10,  10,  10],\n",
       "       [ 10,  10,  11,  11,  11,  11,  11,  11,  11,  11,  11,  11,  12],\n",
       "       [ 12,  12,  12,  12,  12,  12,  12,  12,  12,  13,  13,  13,  13],\n",
       "       [ 13,  13,  13,  13,  13,  13,  14,  14,  14,  14,  14,  14,  14],\n",
       "       [ 14,  14,  14,  15,  15,  15,  15,  15,  15,  15,  15,  15,  15],\n",
       "       [ 16,  16,  16,  16,  16,  16,  16,  16,  16,  16,  17,  17,  17],\n",
       "       [ 17,  17,  17,  17,  17,  17,  17,  18,  18,  18,  18,  18,  18],\n",
       "       [ 18,  18,  18,  18,  19,  19,  19,  19,  19,  19,  19,  19,  19],\n",
       "       [ 19,  20,  20,  20,  20,  20,  20,  20,  20,  20,  20,  21,  21],\n",
       "       [ 21,  21,  21,  21,  21,  21,  21,  21,  22,  22,  22,  22,  22],\n",
       "       [ 22,  22,  22,  22,  22,  23,  23,  23,  23,  23,  23,  23,  23],\n",
       "       [ 23,  23,  24,  24,  24,  24,  24,  24,  24,  24,  24,  24,  25],\n",
       "       [ 25,  25,  25,  25,  25,  25,  25,  25,  25,  26,  26,  26,  26],\n",
       "       [ 26,  26,  26,  26,  26,  26,  27,  27,  27,  27,  27,  27,  27],\n",
       "       [ 27,  27,  27,  28,  28,  28,  28,  28,  28,  28,  28,  28,  28],\n",
       "       [ 29,  29,  29,  29,  29,  29,  29,  29,  29,  29,  30,  30,  30],\n",
       "       [ 30,  30,  30,  30,  30,  30,  30,  31,  31,  31,  31,  31,  31],\n",
       "       [ 31,  31,  32,  32,  32,  32,  32,  32,  32,  32,  32,  32,  33]],\n",
       "      dtype=int64)"
      ]
     },
     "execution_count": 89,
     "metadata": {},
     "output_type": "execute_result"
    }
   ],
   "source": [
    "c.view()"
   ]
  },
  {
   "cell_type": "code",
   "execution_count": 94,
   "id": "75e817f5",
   "metadata": {},
   "outputs": [],
   "source": [
    "c[0,1]=21"
   ]
  },
  {
   "cell_type": "code",
   "execution_count": 95,
   "id": "d10172f8",
   "metadata": {},
   "outputs": [
    {
     "data": {
      "text/plain": [
       "array([[ 21,  21,  21,  21,  21,  21,  21,  21,  21,  21,  21,  21,  21],\n",
       "       [-19, -19, -19, -19, -19, -19, -19, -18, -18, -18, -18, -18, -18],\n",
       "       [-18, -18, -17, -17, -17, -17, -17, -17, -17, -17, -17, -17, -16],\n",
       "       [-16, -16, -16, -16, -16, -16, -16, -16, -15, -15, -15, -15, -15],\n",
       "       [-15, -15, -15, -15, -14, -14, -14, -14, -14, -14, -14, -14, -14],\n",
       "       [-13, -13, -13, -13, -13, -13, -13, -13, -13, -13, -12, -12, -12],\n",
       "       [-12, -12, -12, -12, -12, -12, -12, -11, -11, -11, -11, -11, -11],\n",
       "       [-11, -11, -11, -11, -10, -10, -10, -10, -10, -10, -10, -10, -10],\n",
       "       [-10,  -9,  -9,  -9,  -9,  -9,  -9,  -9,  -9,  -9,  -9,  -8,  -8],\n",
       "       [ -8,  -8,  -8,  -8,  -8,  -8,  -8,  -8,  -7,  -7,  -7,  -7,  -7],\n",
       "       [ -7,  -7,  -7,  -7,  -7,  -6,  -6,  -6,  -6,  -6,  -6,  -6,  -6],\n",
       "       [ -6,  -6,  -5,  -5,  -5,  -5,  -5,  -5,  -5,  -5,  -5,  -5,  -4],\n",
       "       [ -4,  -4,  -4,  -4,  -4,  -4,  -4,  -4,  -4,  -3,  -3,  -3,  -3],\n",
       "       [ -3,  -3,  -3,  -3,  -3,  -3,  -2,  -2,  -2,  -2,  -2,  -2,  -2],\n",
       "       [ -2,  -2,  -2,  -1,  -1,  -1,  -1,  -1,  -1,  -1,  -1,  -1,  -1],\n",
       "       [  0,   0,   0,   0,   0,   0,   0,   0,   0,   0,   0,   0,   0],\n",
       "       [  0,   0,   0,   0,   0,   0,   1,   1,   1,   1,   1,   1,   1],\n",
       "       [  1,   1,   1,   2,   2,   2,   2,   2,   2,   2,   2,   2,   2],\n",
       "       [  3,   3,   3,   3,   3,   3,   3,   3,   3,   3,   4,   4,   4],\n",
       "       [  4,   4,   4,   4,   4,   4,   4,   5,   5,   5,   5,   5,   5],\n",
       "       [  5,   5,   5,   5,   6,   6,   6,   6,   6,   6,   6,   6,   6],\n",
       "       [  6,   7,   7,   7,   7,   7,   7,   7,   7,   7,   7,   8,   8],\n",
       "       [  8,   8,   8,   8,   8,   8,   8,   8,   9,   9,   9,   9,   9],\n",
       "       [  9,   9,   9,   9,   9,  10,  10,  10,  10,  10,  10,  10,  10],\n",
       "       [ 10,  10,  11,  11,  11,  11,  11,  11,  11,  11,  11,  11,  12],\n",
       "       [ 12,  12,  12,  12,  12,  12,  12,  12,  12,  13,  13,  13,  13],\n",
       "       [ 13,  13,  13,  13,  13,  13,  14,  14,  14,  14,  14,  14,  14],\n",
       "       [ 14,  14,  14,  15,  15,  15,  15,  15,  15,  15,  15,  15,  15],\n",
       "       [ 16,  16,  16,  16,  16,  16,  16,  16,  16,  16,  17,  17,  17],\n",
       "       [ 17,  17,  17,  17,  17,  17,  17,  18,  18,  18,  18,  18,  18],\n",
       "       [ 18,  18,  18,  18,  19,  19,  19,  19,  19,  19,  19,  19,  19],\n",
       "       [ 19,  20,  20,  20,  20,  20,  20,  20,  20,  20,  20,  21,  21],\n",
       "       [ 21,  21,  21,  21,  21,  21,  21,  21,  22,  22,  22,  22,  22],\n",
       "       [ 22,  22,  22,  22,  22,  23,  23,  23,  23,  23,  23,  23,  23],\n",
       "       [ 23,  23,  24,  24,  24,  24,  24,  24,  24,  24,  24,  24,  25],\n",
       "       [ 25,  25,  25,  25,  25,  25,  25,  25,  25,  26,  26,  26,  26],\n",
       "       [ 26,  26,  26,  26,  26,  26,  27,  27,  27,  27,  27,  27,  27],\n",
       "       [ 27,  27,  27,  28,  28,  28,  28,  28,  28,  28,  28,  28,  28],\n",
       "       [ 29,  29,  29,  29,  29,  29,  29,  29,  29,  29,  30,  30,  30],\n",
       "       [ 30,  30,  30,  30,  30,  30,  30,  31,  31,  31,  31,  31,  31],\n",
       "       [ 31,  31,  32,  32,  32,  32,  32,  32,  32,  32,  32,  32,  33]],\n",
       "      dtype=int64)"
      ]
     },
     "execution_count": 95,
     "metadata": {},
     "output_type": "execute_result"
    }
   ],
   "source": [
    "c"
   ]
  },
  {
   "cell_type": "code",
   "execution_count": 96,
   "id": "58233aaa",
   "metadata": {},
   "outputs": [
    {
     "data": {
      "text/plain": [
       "array([[ 21,  21,  21,  21,  21,  21,  21,  21,  21,  21,  21,  21,  21],\n",
       "       [-19, -19, -19, -19, -19, -19, -19, -18, -18, -18, -18, -18, -18],\n",
       "       [-18, -18, -17, -17, -17, -17, -17, -17, -17, -17, -17, -17, -16],\n",
       "       [-16, -16, -16, -16, -16, -16, -16, -16, -15, -15, -15, -15, -15],\n",
       "       [-15, -15, -15, -15, -14, -14, -14, -14, -14, -14, -14, -14, -14],\n",
       "       [-13, -13, -13, -13, -13, -13, -13, -13, -13, -13, -12, -12, -12],\n",
       "       [-12, -12, -12, -12, -12, -12, -12, -11, -11, -11, -11, -11, -11],\n",
       "       [-11, -11, -11, -11, -10, -10, -10, -10, -10, -10, -10, -10, -10],\n",
       "       [-10,  -9,  -9,  -9,  -9,  -9,  -9,  -9,  -9,  -9,  -9,  -8,  -8],\n",
       "       [ -8,  -8,  -8,  -8,  -8,  -8,  -8,  -8,  -7,  -7,  -7,  -7,  -7],\n",
       "       [ -7,  -7,  -7,  -7,  -7,  -6,  -6,  -6,  -6,  -6,  -6,  -6,  -6],\n",
       "       [ -6,  -6,  -5,  -5,  -5,  -5,  -5,  -5,  -5,  -5,  -5,  -5,  -4],\n",
       "       [ -4,  -4,  -4,  -4,  -4,  -4,  -4,  -4,  -4,  -3,  -3,  -3,  -3],\n",
       "       [ -3,  -3,  -3,  -3,  -3,  -3,  -2,  -2,  -2,  -2,  -2,  -2,  -2],\n",
       "       [ -2,  -2,  -2,  -1,  -1,  -1,  -1,  -1,  -1,  -1,  -1,  -1,  -1],\n",
       "       [  0,   0,   0,   0,   0,   0,   0,   0,   0,   0,   0,   0,   0],\n",
       "       [  0,   0,   0,   0,   0,   0,   1,   1,   1,   1,   1,   1,   1],\n",
       "       [  1,   1,   1,   2,   2,   2,   2,   2,   2,   2,   2,   2,   2],\n",
       "       [  3,   3,   3,   3,   3,   3,   3,   3,   3,   3,   4,   4,   4],\n",
       "       [  4,   4,   4,   4,   4,   4,   4,   5,   5,   5,   5,   5,   5],\n",
       "       [  5,   5,   5,   5,   6,   6,   6,   6,   6,   6,   6,   6,   6],\n",
       "       [  6,   7,   7,   7,   7,   7,   7,   7,   7,   7,   7,   8,   8],\n",
       "       [  8,   8,   8,   8,   8,   8,   8,   8,   9,   9,   9,   9,   9],\n",
       "       [  9,   9,   9,   9,   9,  10,  10,  10,  10,  10,  10,  10,  10],\n",
       "       [ 10,  10,  11,  11,  11,  11,  11,  11,  11,  11,  11,  11,  12],\n",
       "       [ 12,  12,  12,  12,  12,  12,  12,  12,  12,  13,  13,  13,  13],\n",
       "       [ 13,  13,  13,  13,  13,  13,  14,  14,  14,  14,  14,  14,  14],\n",
       "       [ 14,  14,  14,  15,  15,  15,  15,  15,  15,  15,  15,  15,  15],\n",
       "       [ 16,  16,  16,  16,  16,  16,  16,  16,  16,  16,  17,  17,  17],\n",
       "       [ 17,  17,  17,  17,  17,  17,  17,  18,  18,  18,  18,  18,  18],\n",
       "       [ 18,  18,  18,  18,  19,  19,  19,  19,  19,  19,  19,  19,  19],\n",
       "       [ 19,  20,  20,  20,  20,  20,  20,  20,  20,  20,  20,  21,  21],\n",
       "       [ 21,  21,  21,  21,  21,  21,  21,  21,  22,  22,  22,  22,  22],\n",
       "       [ 22,  22,  22,  22,  22,  23,  23,  23,  23,  23,  23,  23,  23],\n",
       "       [ 23,  23,  24,  24,  24,  24,  24,  24,  24,  24,  24,  24,  25],\n",
       "       [ 25,  25,  25,  25,  25,  25,  25,  25,  25,  26,  26,  26,  26],\n",
       "       [ 26,  26,  26,  26,  26,  26,  27,  27,  27,  27,  27,  27,  27],\n",
       "       [ 27,  27,  27,  28,  28,  28,  28,  28,  28,  28,  28,  28,  28],\n",
       "       [ 29,  29,  29,  29,  29,  29,  29,  29,  29,  29,  30,  30,  30],\n",
       "       [ 30,  30,  30,  30,  30,  30,  30,  31,  31,  31,  31,  31,  31],\n",
       "       [ 31,  31,  32,  32,  32,  32,  32,  32,  32,  32,  32,  32,  33]],\n",
       "      dtype=int64)"
      ]
     },
     "execution_count": 96,
     "metadata": {},
     "output_type": "execute_result"
    }
   ],
   "source": [
    "c"
   ]
  },
  {
   "cell_type": "code",
   "execution_count": 97,
   "id": "e4fb9081",
   "metadata": {},
   "outputs": [],
   "source": [
    "arr = np.array([1,2,3,4,5,6,7,8,9])"
   ]
  },
  {
   "cell_type": "code",
   "execution_count": 98,
   "id": "2d2c91ae",
   "metadata": {},
   "outputs": [
    {
     "data": {
      "text/plain": [
       "array([1, 2, 3, 4, 5, 6, 7, 8, 9])"
      ]
     },
     "execution_count": 98,
     "metadata": {},
     "output_type": "execute_result"
    }
   ],
   "source": [
    "arr"
   ]
  },
  {
   "cell_type": "code",
   "execution_count": 100,
   "id": "8a0696e2",
   "metadata": {},
   "outputs": [
    {
     "data": {
      "text/plain": [
       "dtype('int32')"
      ]
     },
     "execution_count": 100,
     "metadata": {},
     "output_type": "execute_result"
    }
   ],
   "source": [
    "arr.dtype"
   ]
  },
  {
   "cell_type": "code",
   "execution_count": 101,
   "id": "a26a943d",
   "metadata": {},
   "outputs": [
    {
     "data": {
      "text/plain": [
       "(9,)"
      ]
     },
     "execution_count": 101,
     "metadata": {},
     "output_type": "execute_result"
    }
   ],
   "source": [
    "arr.shape"
   ]
  },
  {
   "cell_type": "code",
   "execution_count": 102,
   "id": "add18cb1",
   "metadata": {},
   "outputs": [
    {
     "data": {
      "text/plain": [
       "array([[1, 2, 3],\n",
       "       [4, 5, 6],\n",
       "       [7, 8, 9]])"
      ]
     },
     "execution_count": 102,
     "metadata": {},
     "output_type": "execute_result"
    }
   ],
   "source": [
    "arr.reshape(3,3)"
   ]
  },
  {
   "cell_type": "code",
   "execution_count": 112,
   "id": "77969156",
   "metadata": {},
   "outputs": [
    {
     "data": {
      "text/plain": [
       "array([[1, 2, 3],\n",
       "       [4, 5, 6],\n",
       "       [7, 8, 9]])"
      ]
     },
     "execution_count": 112,
     "metadata": {},
     "output_type": "execute_result"
    }
   ],
   "source": [
    "arr.reshape(3,3)"
   ]
  },
  {
   "cell_type": "code",
   "execution_count": 113,
   "id": "f31efcb0",
   "metadata": {},
   "outputs": [
    {
     "data": {
      "text/plain": [
       "array([1, 2, 3, 4, 5, 6, 7, 8, 9])"
      ]
     },
     "execution_count": 113,
     "metadata": {},
     "output_type": "execute_result"
    }
   ],
   "source": [
    "arr.flatten()"
   ]
  },
  {
   "cell_type": "code",
   "execution_count": 115,
   "id": "05079989",
   "metadata": {},
   "outputs": [],
   "source": [
    "arr1 = arr.view()"
   ]
  },
  {
   "cell_type": "code",
   "execution_count": 116,
   "id": "3f0bc0a6",
   "metadata": {},
   "outputs": [
    {
     "data": {
      "text/plain": [
       "array([1, 2, 3, 4, 5, 6, 7, 8, 9])"
      ]
     },
     "execution_count": 116,
     "metadata": {},
     "output_type": "execute_result"
    }
   ],
   "source": [
    "arr1"
   ]
  },
  {
   "cell_type": "code",
   "execution_count": 117,
   "id": "9d4fd933",
   "metadata": {},
   "outputs": [],
   "source": [
    "arr1[0] = 12"
   ]
  },
  {
   "cell_type": "code",
   "execution_count": 118,
   "id": "1fccb6c2",
   "metadata": {},
   "outputs": [
    {
     "data": {
      "text/plain": [
       "array([12,  2,  3,  4,  5,  6,  7,  8,  9])"
      ]
     },
     "execution_count": 118,
     "metadata": {},
     "output_type": "execute_result"
    }
   ],
   "source": [
    "arr1"
   ]
  },
  {
   "cell_type": "code",
   "execution_count": 119,
   "id": "cc66f608",
   "metadata": {},
   "outputs": [
    {
     "data": {
      "text/plain": [
       "array([12,  2,  3,  4,  5,  6,  7,  8,  9])"
      ]
     },
     "execution_count": 119,
     "metadata": {},
     "output_type": "execute_result"
    }
   ],
   "source": [
    "arr"
   ]
  },
  {
   "cell_type": "code",
   "execution_count": 120,
   "id": "ee1cb237",
   "metadata": {},
   "outputs": [
    {
     "data": {
      "text/plain": [
       "array([12,  2,  3,  4,  5,  6,  7,  8,  9])"
      ]
     },
     "execution_count": 120,
     "metadata": {},
     "output_type": "execute_result"
    }
   ],
   "source": [
    "arr1"
   ]
  },
  {
   "cell_type": "code",
   "execution_count": 121,
   "id": "1b4cd443",
   "metadata": {},
   "outputs": [
    {
     "data": {
      "text/plain": [
       "array([12,  2,  3,  4,  5,  6,  7,  8,  9])"
      ]
     },
     "execution_count": 121,
     "metadata": {},
     "output_type": "execute_result"
    }
   ],
   "source": [
    "arr"
   ]
  },
  {
   "cell_type": "code",
   "execution_count": 127,
   "id": "3d566600",
   "metadata": {},
   "outputs": [
    {
     "data": {
      "text/plain": [
       "array([[12,  2,  3],\n",
       "       [ 4,  5,  6],\n",
       "       [ 7,  8,  9]])"
      ]
     },
     "execution_count": 127,
     "metadata": {},
     "output_type": "execute_result"
    }
   ],
   "source": [
    "arr.reshape(3,3)\n"
   ]
  },
  {
   "cell_type": "code",
   "execution_count": 130,
   "id": "713c3e97",
   "metadata": {},
   "outputs": [
    {
     "name": "stdout",
     "output_type": "stream",
     "text": [
      "12\n",
      "2\n",
      "3\n",
      "4\n",
      "5\n",
      "6\n",
      "7\n",
      "8\n",
      "9\n"
     ]
    }
   ],
   "source": [
    "for i in arr:\n",
    "    print(i)"
   ]
  },
  {
   "cell_type": "code",
   "execution_count": 142,
   "id": "b951c427",
   "metadata": {},
   "outputs": [],
   "source": [
    "arr2 = np.array([[[1,2,3],[4,5,6],[7,8,9]]],ndmin = 6)"
   ]
  },
  {
   "cell_type": "code",
   "execution_count": 143,
   "id": "79b84252",
   "metadata": {},
   "outputs": [
    {
     "data": {
      "text/plain": [
       "(1, 1, 1, 1, 3, 3)"
      ]
     },
     "execution_count": 143,
     "metadata": {},
     "output_type": "execute_result"
    }
   ],
   "source": [
    "arr2.shape"
   ]
  },
  {
   "cell_type": "code",
   "execution_count": 144,
   "id": "3f6fbc4f",
   "metadata": {},
   "outputs": [
    {
     "name": "stdout",
     "output_type": "stream",
     "text": [
      "[[[[[1 2 3]\n",
      "    [4 5 6]\n",
      "    [7 8 9]]]]]\n"
     ]
    }
   ],
   "source": [
    "for i in arr2:\n",
    "    print(i)"
   ]
  },
  {
   "cell_type": "code",
   "execution_count": 145,
   "id": "f8297443",
   "metadata": {},
   "outputs": [
    {
     "name": "stdout",
     "output_type": "stream",
     "text": [
      "[[[[1 2 3]\n",
      "   [4 5 6]\n",
      "   [7 8 9]]]]\n"
     ]
    }
   ],
   "source": [
    "for i in arr2:\n",
    "    for j in i:\n",
    "        print(j)"
   ]
  },
  {
   "cell_type": "code",
   "execution_count": 146,
   "id": "c6cf102f",
   "metadata": {},
   "outputs": [
    {
     "data": {
      "text/plain": [
       "array([[[[[[1, 2, 3],\n",
       "           [4, 5, 6],\n",
       "           [7, 8, 9]]]]]])"
      ]
     },
     "execution_count": 146,
     "metadata": {},
     "output_type": "execute_result"
    }
   ],
   "source": [
    "arr2"
   ]
  },
  {
   "cell_type": "code",
   "execution_count": 148,
   "id": "4deb638b",
   "metadata": {},
   "outputs": [
    {
     "name": "stdout",
     "output_type": "stream",
     "text": [
      "(0, 0, 0, 0, 0, 0) 1\n",
      "(0, 0, 0, 0, 0, 1) 2\n",
      "(0, 0, 0, 0, 0, 2) 3\n",
      "(0, 0, 0, 0, 1, 0) 4\n",
      "(0, 0, 0, 0, 1, 1) 5\n",
      "(0, 0, 0, 0, 1, 2) 6\n",
      "(0, 0, 0, 0, 2, 0) 7\n",
      "(0, 0, 0, 0, 2, 1) 8\n",
      "(0, 0, 0, 0, 2, 2) 9\n"
     ]
    }
   ],
   "source": [
    "for x,y in np.ndenumerate(arr2):\n",
    "    print(x,y)"
   ]
  },
  {
   "cell_type": "code",
   "execution_count": 153,
   "id": "ee89079e",
   "metadata": {},
   "outputs": [],
   "source": [
    "arr3 = np.array_split(arr2,6)"
   ]
  },
  {
   "cell_type": "code",
   "execution_count": 154,
   "id": "1250fb05",
   "metadata": {},
   "outputs": [
    {
     "data": {
      "text/plain": [
       "[array([[[[[[1, 2, 3],\n",
       "            [4, 5, 6],\n",
       "            [7, 8, 9]]]]]]),\n",
       " array([], shape=(0, 1, 1, 1, 3, 3), dtype=int32),\n",
       " array([], shape=(0, 1, 1, 1, 3, 3), dtype=int32),\n",
       " array([], shape=(0, 1, 1, 1, 3, 3), dtype=int32),\n",
       " array([], shape=(0, 1, 1, 1, 3, 3), dtype=int32),\n",
       " array([], shape=(0, 1, 1, 1, 3, 3), dtype=int32)]"
      ]
     },
     "execution_count": 154,
     "metadata": {},
     "output_type": "execute_result"
    }
   ],
   "source": [
    " arr3"
   ]
  },
  {
   "cell_type": "code",
   "execution_count": 155,
   "id": "69454732",
   "metadata": {},
   "outputs": [],
   "source": [
    "arr4 = np.array([[54,6,33,35],[23,435,64,23]])"
   ]
  },
  {
   "cell_type": "code",
   "execution_count": 158,
   "id": "28573610",
   "metadata": {},
   "outputs": [
    {
     "data": {
      "text/plain": [
       "array([[  6,  33,  35,  54],\n",
       "       [ 23,  23,  64, 435]])"
      ]
     },
     "execution_count": 158,
     "metadata": {},
     "output_type": "execute_result"
    }
   ],
   "source": [
    "arr4"
   ]
  },
  {
   "cell_type": "code",
   "execution_count": 161,
   "id": "5553e147",
   "metadata": {},
   "outputs": [],
   "source": [
    "arr4.sort(axis=0)"
   ]
  },
  {
   "cell_type": "code",
   "execution_count": 162,
   "id": "82fa848c",
   "metadata": {},
   "outputs": [
    {
     "data": {
      "text/plain": [
       "array([[  6,  23,  35,  54],\n",
       "       [ 23,  33,  64, 435]])"
      ]
     },
     "execution_count": 162,
     "metadata": {},
     "output_type": "execute_result"
    }
   ],
   "source": [
    "arr4"
   ]
  },
  {
   "cell_type": "code",
   "execution_count": 191,
   "id": "dba5ea4a",
   "metadata": {},
   "outputs": [],
   "source": [
    "arr5 = np.array(['a','A','b','B'])"
   ]
  },
  {
   "cell_type": "code",
   "execution_count": 192,
   "id": "54cc1b14",
   "metadata": {},
   "outputs": [
    {
     "data": {
      "text/plain": [
       "array(['a', 'A', 'b', 'B'], dtype='<U1')"
      ]
     },
     "execution_count": 192,
     "metadata": {},
     "output_type": "execute_result"
    }
   ],
   "source": [
    "arr5"
   ]
  },
  {
   "cell_type": "code",
   "execution_count": 193,
   "id": "f1ebcf89",
   "metadata": {},
   "outputs": [
    {
     "name": "stdout",
     "output_type": "stream",
     "text": [
      "['A' 'B' 'a' 'b']\n"
     ]
    }
   ],
   "source": [
    "print(np.sort(arr5))"
   ]
  },
  {
   "cell_type": "code",
   "execution_count": 194,
   "id": "264fc0da",
   "metadata": {},
   "outputs": [
    {
     "name": "stdout",
     "output_type": "stream",
     "text": [
      "2\n"
     ]
    }
   ],
   "source": [
    "print(np.searchsorted(arr5,'a'))"
   ]
  },
  {
   "cell_type": "code",
   "execution_count": 195,
   "id": "39dce229",
   "metadata": {},
   "outputs": [
    {
     "data": {
      "text/plain": [
       "2"
      ]
     },
     "execution_count": 195,
     "metadata": {},
     "output_type": "execute_result"
    }
   ],
   "source": [
    "arr5.argmax()"
   ]
  },
  {
   "cell_type": "code",
   "execution_count": 196,
   "id": "0317ae8e",
   "metadata": {},
   "outputs": [
    {
     "data": {
      "text/plain": [
       "1"
      ]
     },
     "execution_count": 196,
     "metadata": {},
     "output_type": "execute_result"
    }
   ],
   "source": [
    "arr5.argmin()"
   ]
  },
  {
   "cell_type": "code",
   "execution_count": 201,
   "id": "7317dee3",
   "metadata": {},
   "outputs": [
    {
     "data": {
      "text/plain": [
       "7"
      ]
     },
     "execution_count": 201,
     "metadata": {},
     "output_type": "execute_result"
    }
   ],
   "source": [
    "arr4.argmax()"
   ]
  },
  {
   "cell_type": "code",
   "execution_count": 202,
   "id": "32cae22f",
   "metadata": {},
   "outputs": [
    {
     "data": {
      "text/html": [
       "<div>\n",
       "<style scoped>\n",
       "    .dataframe tbody tr th:only-of-type {\n",
       "        vertical-align: middle;\n",
       "    }\n",
       "\n",
       "    .dataframe tbody tr th {\n",
       "        vertical-align: top;\n",
       "    }\n",
       "\n",
       "    .dataframe thead th {\n",
       "        text-align: right;\n",
       "    }\n",
       "</style>\n",
       "<table border=\"1\" class=\"dataframe\">\n",
       "  <thead>\n",
       "    <tr style=\"text-align: right;\">\n",
       "      <th></th>\n",
       "      <th>Date/Time</th>\n",
       "      <th>Temp_C</th>\n",
       "      <th>Dew Point Temp_C</th>\n",
       "      <th>Rel Hum_%</th>\n",
       "      <th>Wind Speed_km/h</th>\n",
       "      <th>Visibility_km</th>\n",
       "      <th>Press_kPa</th>\n",
       "      <th>Weather</th>\n",
       "    </tr>\n",
       "  </thead>\n",
       "  <tbody>\n",
       "    <tr>\n",
       "      <th>0</th>\n",
       "      <td>1/1/2012 0:00</td>\n",
       "      <td>-1.8</td>\n",
       "      <td>-3.9</td>\n",
       "      <td>86</td>\n",
       "      <td>4</td>\n",
       "      <td>8.0</td>\n",
       "      <td>101.24</td>\n",
       "      <td>Fog</td>\n",
       "    </tr>\n",
       "    <tr>\n",
       "      <th>1</th>\n",
       "      <td>1/1/2012 1:00</td>\n",
       "      <td>-1.8</td>\n",
       "      <td>-3.7</td>\n",
       "      <td>87</td>\n",
       "      <td>4</td>\n",
       "      <td>8.0</td>\n",
       "      <td>101.24</td>\n",
       "      <td>Fog</td>\n",
       "    </tr>\n",
       "    <tr>\n",
       "      <th>2</th>\n",
       "      <td>1/1/2012 2:00</td>\n",
       "      <td>-1.8</td>\n",
       "      <td>-3.4</td>\n",
       "      <td>89</td>\n",
       "      <td>7</td>\n",
       "      <td>4.0</td>\n",
       "      <td>101.26</td>\n",
       "      <td>Freezing Drizzle,Fog</td>\n",
       "    </tr>\n",
       "    <tr>\n",
       "      <th>3</th>\n",
       "      <td>1/1/2012 3:00</td>\n",
       "      <td>-1.5</td>\n",
       "      <td>-3.2</td>\n",
       "      <td>88</td>\n",
       "      <td>6</td>\n",
       "      <td>4.0</td>\n",
       "      <td>101.27</td>\n",
       "      <td>Freezing Drizzle,Fog</td>\n",
       "    </tr>\n",
       "    <tr>\n",
       "      <th>4</th>\n",
       "      <td>1/1/2012 4:00</td>\n",
       "      <td>-1.5</td>\n",
       "      <td>-3.3</td>\n",
       "      <td>88</td>\n",
       "      <td>7</td>\n",
       "      <td>4.8</td>\n",
       "      <td>101.23</td>\n",
       "      <td>Fog</td>\n",
       "    </tr>\n",
       "    <tr>\n",
       "      <th>...</th>\n",
       "      <td>...</td>\n",
       "      <td>...</td>\n",
       "      <td>...</td>\n",
       "      <td>...</td>\n",
       "      <td>...</td>\n",
       "      <td>...</td>\n",
       "      <td>...</td>\n",
       "      <td>...</td>\n",
       "    </tr>\n",
       "    <tr>\n",
       "      <th>8779</th>\n",
       "      <td>12/31/2012 19:00</td>\n",
       "      <td>0.1</td>\n",
       "      <td>-2.7</td>\n",
       "      <td>81</td>\n",
       "      <td>30</td>\n",
       "      <td>9.7</td>\n",
       "      <td>100.13</td>\n",
       "      <td>Snow</td>\n",
       "    </tr>\n",
       "    <tr>\n",
       "      <th>8780</th>\n",
       "      <td>12/31/2012 20:00</td>\n",
       "      <td>0.2</td>\n",
       "      <td>-2.4</td>\n",
       "      <td>83</td>\n",
       "      <td>24</td>\n",
       "      <td>9.7</td>\n",
       "      <td>100.03</td>\n",
       "      <td>Snow</td>\n",
       "    </tr>\n",
       "    <tr>\n",
       "      <th>8781</th>\n",
       "      <td>12/31/2012 21:00</td>\n",
       "      <td>-0.5</td>\n",
       "      <td>-1.5</td>\n",
       "      <td>93</td>\n",
       "      <td>28</td>\n",
       "      <td>4.8</td>\n",
       "      <td>99.95</td>\n",
       "      <td>Snow</td>\n",
       "    </tr>\n",
       "    <tr>\n",
       "      <th>8782</th>\n",
       "      <td>12/31/2012 22:00</td>\n",
       "      <td>-0.2</td>\n",
       "      <td>-1.8</td>\n",
       "      <td>89</td>\n",
       "      <td>28</td>\n",
       "      <td>9.7</td>\n",
       "      <td>99.91</td>\n",
       "      <td>Snow</td>\n",
       "    </tr>\n",
       "    <tr>\n",
       "      <th>8783</th>\n",
       "      <td>12/31/2012 23:00</td>\n",
       "      <td>0.0</td>\n",
       "      <td>-2.1</td>\n",
       "      <td>86</td>\n",
       "      <td>30</td>\n",
       "      <td>11.3</td>\n",
       "      <td>99.89</td>\n",
       "      <td>Snow</td>\n",
       "    </tr>\n",
       "  </tbody>\n",
       "</table>\n",
       "<p>8784 rows × 8 columns</p>\n",
       "</div>"
      ],
      "text/plain": [
       "             Date/Time  Temp_C  Dew Point Temp_C  Rel Hum_%  Wind Speed_km/h  \\\n",
       "0        1/1/2012 0:00    -1.8              -3.9         86                4   \n",
       "1        1/1/2012 1:00    -1.8              -3.7         87                4   \n",
       "2        1/1/2012 2:00    -1.8              -3.4         89                7   \n",
       "3        1/1/2012 3:00    -1.5              -3.2         88                6   \n",
       "4        1/1/2012 4:00    -1.5              -3.3         88                7   \n",
       "...                ...     ...               ...        ...              ...   \n",
       "8779  12/31/2012 19:00     0.1              -2.7         81               30   \n",
       "8780  12/31/2012 20:00     0.2              -2.4         83               24   \n",
       "8781  12/31/2012 21:00    -0.5              -1.5         93               28   \n",
       "8782  12/31/2012 22:00    -0.2              -1.8         89               28   \n",
       "8783  12/31/2012 23:00     0.0              -2.1         86               30   \n",
       "\n",
       "      Visibility_km  Press_kPa               Weather  \n",
       "0               8.0     101.24                   Fog  \n",
       "1               8.0     101.24                   Fog  \n",
       "2               4.0     101.26  Freezing Drizzle,Fog  \n",
       "3               4.0     101.27  Freezing Drizzle,Fog  \n",
       "4               4.8     101.23                   Fog  \n",
       "...             ...        ...                   ...  \n",
       "8779            9.7     100.13                  Snow  \n",
       "8780            9.7     100.03                  Snow  \n",
       "8781            4.8      99.95                  Snow  \n",
       "8782            9.7      99.91                  Snow  \n",
       "8783           11.3      99.89                  Snow  \n",
       "\n",
       "[8784 rows x 8 columns]"
      ]
     },
     "execution_count": 202,
     "metadata": {},
     "output_type": "execute_result"
    }
   ],
   "source": [
    "data"
   ]
  },
  {
   "cell_type": "code",
   "execution_count": 204,
   "id": "05ea0194",
   "metadata": {},
   "outputs": [
    {
     "data": {
      "text/html": [
       "<div>\n",
       "<style scoped>\n",
       "    .dataframe tbody tr th:only-of-type {\n",
       "        vertical-align: middle;\n",
       "    }\n",
       "\n",
       "    .dataframe tbody tr th {\n",
       "        vertical-align: top;\n",
       "    }\n",
       "\n",
       "    .dataframe thead th {\n",
       "        text-align: right;\n",
       "    }\n",
       "</style>\n",
       "<table border=\"1\" class=\"dataframe\">\n",
       "  <thead>\n",
       "    <tr style=\"text-align: right;\">\n",
       "      <th></th>\n",
       "      <th>Date/Time</th>\n",
       "      <th>Temp_C</th>\n",
       "      <th>Dew Point Temp_C</th>\n",
       "      <th>Rel Hum_%</th>\n",
       "      <th>Wind Speed_km/h</th>\n",
       "      <th>Visibility_km</th>\n",
       "      <th>Press_kPa</th>\n",
       "      <th>Weather</th>\n",
       "    </tr>\n",
       "  </thead>\n",
       "  <tbody>\n",
       "    <tr>\n",
       "      <th>0</th>\n",
       "      <td>1/1/2012 0:00</td>\n",
       "      <td>-1.8</td>\n",
       "      <td>-3.9</td>\n",
       "      <td>86</td>\n",
       "      <td>4</td>\n",
       "      <td>8.0</td>\n",
       "      <td>101.24</td>\n",
       "      <td>Fog</td>\n",
       "    </tr>\n",
       "    <tr>\n",
       "      <th>1</th>\n",
       "      <td>1/1/2012 1:00</td>\n",
       "      <td>-1.8</td>\n",
       "      <td>-3.7</td>\n",
       "      <td>87</td>\n",
       "      <td>4</td>\n",
       "      <td>8.0</td>\n",
       "      <td>101.24</td>\n",
       "      <td>Fog</td>\n",
       "    </tr>\n",
       "    <tr>\n",
       "      <th>2</th>\n",
       "      <td>1/1/2012 2:00</td>\n",
       "      <td>-1.8</td>\n",
       "      <td>-3.4</td>\n",
       "      <td>89</td>\n",
       "      <td>7</td>\n",
       "      <td>4.0</td>\n",
       "      <td>101.26</td>\n",
       "      <td>Freezing Drizzle,Fog</td>\n",
       "    </tr>\n",
       "    <tr>\n",
       "      <th>3</th>\n",
       "      <td>1/1/2012 3:00</td>\n",
       "      <td>-1.5</td>\n",
       "      <td>-3.2</td>\n",
       "      <td>88</td>\n",
       "      <td>6</td>\n",
       "      <td>4.0</td>\n",
       "      <td>101.27</td>\n",
       "      <td>Freezing Drizzle,Fog</td>\n",
       "    </tr>\n",
       "    <tr>\n",
       "      <th>4</th>\n",
       "      <td>1/1/2012 4:00</td>\n",
       "      <td>-1.5</td>\n",
       "      <td>-3.3</td>\n",
       "      <td>88</td>\n",
       "      <td>7</td>\n",
       "      <td>4.8</td>\n",
       "      <td>101.23</td>\n",
       "      <td>Fog</td>\n",
       "    </tr>\n",
       "  </tbody>\n",
       "</table>\n",
       "</div>"
      ],
      "text/plain": [
       "       Date/Time  Temp_C  Dew Point Temp_C  Rel Hum_%  Wind Speed_km/h  \\\n",
       "0  1/1/2012 0:00    -1.8              -3.9         86                4   \n",
       "1  1/1/2012 1:00    -1.8              -3.7         87                4   \n",
       "2  1/1/2012 2:00    -1.8              -3.4         89                7   \n",
       "3  1/1/2012 3:00    -1.5              -3.2         88                6   \n",
       "4  1/1/2012 4:00    -1.5              -3.3         88                7   \n",
       "\n",
       "   Visibility_km  Press_kPa               Weather  \n",
       "0            8.0     101.24                   Fog  \n",
       "1            8.0     101.24                   Fog  \n",
       "2            4.0     101.26  Freezing Drizzle,Fog  \n",
       "3            4.0     101.27  Freezing Drizzle,Fog  \n",
       "4            4.8     101.23                   Fog  "
      ]
     },
     "execution_count": 204,
     "metadata": {},
     "output_type": "execute_result"
    }
   ],
   "source": [
    "data.head()"
   ]
  },
  {
   "cell_type": "code",
   "execution_count": 205,
   "id": "9cc9e5d3",
   "metadata": {},
   "outputs": [
    {
     "data": {
      "text/plain": [
       "Index(['Date/Time', 'Temp_C', 'Dew Point Temp_C', 'Rel Hum_%',\n",
       "       'Wind Speed_km/h', 'Visibility_km', 'Press_kPa', 'Weather'],\n",
       "      dtype='object')"
      ]
     },
     "execution_count": 205,
     "metadata": {},
     "output_type": "execute_result"
    }
   ],
   "source": [
    "data.columns"
   ]
  },
  {
   "cell_type": "code",
   "execution_count": 206,
   "id": "fdd74eca",
   "metadata": {},
   "outputs": [],
   "source": [
    "l = list(data.columns)"
   ]
  },
  {
   "cell_type": "code",
   "execution_count": 207,
   "id": "156471a3",
   "metadata": {},
   "outputs": [
    {
     "data": {
      "text/plain": [
       "['Date/Time',\n",
       " 'Temp_C',\n",
       " 'Dew Point Temp_C',\n",
       " 'Rel Hum_%',\n",
       " 'Wind Speed_km/h',\n",
       " 'Visibility_km',\n",
       " 'Press_kPa',\n",
       " 'Weather']"
      ]
     },
     "execution_count": 207,
     "metadata": {},
     "output_type": "execute_result"
    }
   ],
   "source": [
    "l"
   ]
  },
  {
   "cell_type": "code",
   "execution_count": 208,
   "id": "6ec5f3cb",
   "metadata": {},
   "outputs": [],
   "source": [
    "t = tuple(l)"
   ]
  },
  {
   "cell_type": "code",
   "execution_count": 209,
   "id": "12d17ee6",
   "metadata": {},
   "outputs": [
    {
     "data": {
      "text/plain": [
       "('Date/Time',\n",
       " 'Temp_C',\n",
       " 'Dew Point Temp_C',\n",
       " 'Rel Hum_%',\n",
       " 'Wind Speed_km/h',\n",
       " 'Visibility_km',\n",
       " 'Press_kPa',\n",
       " 'Weather')"
      ]
     },
     "execution_count": 209,
     "metadata": {},
     "output_type": "execute_result"
    }
   ],
   "source": [
    "t"
   ]
  },
  {
   "cell_type": "code",
   "execution_count": 210,
   "id": "55d05f5b",
   "metadata": {},
   "outputs": [],
   "source": [
    "s = set(t)"
   ]
  },
  {
   "cell_type": "code",
   "execution_count": 211,
   "id": "de7efc20",
   "metadata": {},
   "outputs": [
    {
     "data": {
      "text/plain": [
       "{'Date/Time',\n",
       " 'Dew Point Temp_C',\n",
       " 'Press_kPa',\n",
       " 'Rel Hum_%',\n",
       " 'Temp_C',\n",
       " 'Visibility_km',\n",
       " 'Weather',\n",
       " 'Wind Speed_km/h'}"
      ]
     },
     "execution_count": 211,
     "metadata": {},
     "output_type": "execute_result"
    }
   ],
   "source": [
    "s"
   ]
  },
  {
   "cell_type": "code",
   "execution_count": 213,
   "id": "c99c31c7",
   "metadata": {},
   "outputs": [],
   "source": [
    "s.add('hello')"
   ]
  },
  {
   "cell_type": "code",
   "execution_count": 215,
   "id": "8222054e",
   "metadata": {},
   "outputs": [],
   "source": [
    "s.remove('hello')"
   ]
  },
  {
   "cell_type": "code",
   "execution_count": 216,
   "id": "bf8b9988",
   "metadata": {},
   "outputs": [
    {
     "data": {
      "text/plain": [
       "{'Date/Time',\n",
       " 'Dew Point Temp_C',\n",
       " 'Press_kPa',\n",
       " 'Rel Hum_%',\n",
       " 'Temp_C',\n",
       " 'Visibility_km',\n",
       " 'Weather',\n",
       " 'Wind Speed_km/h'}"
      ]
     },
     "execution_count": 216,
     "metadata": {},
     "output_type": "execute_result"
    }
   ],
   "source": [
    "s"
   ]
  },
  {
   "cell_type": "code",
   "execution_count": 217,
   "id": "a6af4bc4",
   "metadata": {},
   "outputs": [
    {
     "data": {
      "text/html": [
       "<div>\n",
       "<style scoped>\n",
       "    .dataframe tbody tr th:only-of-type {\n",
       "        vertical-align: middle;\n",
       "    }\n",
       "\n",
       "    .dataframe tbody tr th {\n",
       "        vertical-align: top;\n",
       "    }\n",
       "\n",
       "    .dataframe thead th {\n",
       "        text-align: right;\n",
       "    }\n",
       "</style>\n",
       "<table border=\"1\" class=\"dataframe\">\n",
       "  <thead>\n",
       "    <tr style=\"text-align: right;\">\n",
       "      <th></th>\n",
       "      <th>Date/Time</th>\n",
       "      <th>Temp_C</th>\n",
       "      <th>Dew Point Temp_C</th>\n",
       "      <th>Rel Hum_%</th>\n",
       "      <th>Wind Speed_km/h</th>\n",
       "      <th>Visibility_km</th>\n",
       "      <th>Press_kPa</th>\n",
       "      <th>Weather</th>\n",
       "    </tr>\n",
       "  </thead>\n",
       "  <tbody>\n",
       "    <tr>\n",
       "      <th>0</th>\n",
       "      <td>1/1/2012 0:00</td>\n",
       "      <td>-1.8</td>\n",
       "      <td>-3.9</td>\n",
       "      <td>86</td>\n",
       "      <td>4</td>\n",
       "      <td>8.0</td>\n",
       "      <td>101.24</td>\n",
       "      <td>Fog</td>\n",
       "    </tr>\n",
       "    <tr>\n",
       "      <th>1</th>\n",
       "      <td>1/1/2012 1:00</td>\n",
       "      <td>-1.8</td>\n",
       "      <td>-3.7</td>\n",
       "      <td>87</td>\n",
       "      <td>4</td>\n",
       "      <td>8.0</td>\n",
       "      <td>101.24</td>\n",
       "      <td>Fog</td>\n",
       "    </tr>\n",
       "    <tr>\n",
       "      <th>2</th>\n",
       "      <td>1/1/2012 2:00</td>\n",
       "      <td>-1.8</td>\n",
       "      <td>-3.4</td>\n",
       "      <td>89</td>\n",
       "      <td>7</td>\n",
       "      <td>4.0</td>\n",
       "      <td>101.26</td>\n",
       "      <td>Freezing Drizzle,Fog</td>\n",
       "    </tr>\n",
       "    <tr>\n",
       "      <th>3</th>\n",
       "      <td>1/1/2012 3:00</td>\n",
       "      <td>-1.5</td>\n",
       "      <td>-3.2</td>\n",
       "      <td>88</td>\n",
       "      <td>6</td>\n",
       "      <td>4.0</td>\n",
       "      <td>101.27</td>\n",
       "      <td>Freezing Drizzle,Fog</td>\n",
       "    </tr>\n",
       "    <tr>\n",
       "      <th>4</th>\n",
       "      <td>1/1/2012 4:00</td>\n",
       "      <td>-1.5</td>\n",
       "      <td>-3.3</td>\n",
       "      <td>88</td>\n",
       "      <td>7</td>\n",
       "      <td>4.8</td>\n",
       "      <td>101.23</td>\n",
       "      <td>Fog</td>\n",
       "    </tr>\n",
       "    <tr>\n",
       "      <th>...</th>\n",
       "      <td>...</td>\n",
       "      <td>...</td>\n",
       "      <td>...</td>\n",
       "      <td>...</td>\n",
       "      <td>...</td>\n",
       "      <td>...</td>\n",
       "      <td>...</td>\n",
       "      <td>...</td>\n",
       "    </tr>\n",
       "    <tr>\n",
       "      <th>8779</th>\n",
       "      <td>12/31/2012 19:00</td>\n",
       "      <td>0.1</td>\n",
       "      <td>-2.7</td>\n",
       "      <td>81</td>\n",
       "      <td>30</td>\n",
       "      <td>9.7</td>\n",
       "      <td>100.13</td>\n",
       "      <td>Snow</td>\n",
       "    </tr>\n",
       "    <tr>\n",
       "      <th>8780</th>\n",
       "      <td>12/31/2012 20:00</td>\n",
       "      <td>0.2</td>\n",
       "      <td>-2.4</td>\n",
       "      <td>83</td>\n",
       "      <td>24</td>\n",
       "      <td>9.7</td>\n",
       "      <td>100.03</td>\n",
       "      <td>Snow</td>\n",
       "    </tr>\n",
       "    <tr>\n",
       "      <th>8781</th>\n",
       "      <td>12/31/2012 21:00</td>\n",
       "      <td>-0.5</td>\n",
       "      <td>-1.5</td>\n",
       "      <td>93</td>\n",
       "      <td>28</td>\n",
       "      <td>4.8</td>\n",
       "      <td>99.95</td>\n",
       "      <td>Snow</td>\n",
       "    </tr>\n",
       "    <tr>\n",
       "      <th>8782</th>\n",
       "      <td>12/31/2012 22:00</td>\n",
       "      <td>-0.2</td>\n",
       "      <td>-1.8</td>\n",
       "      <td>89</td>\n",
       "      <td>28</td>\n",
       "      <td>9.7</td>\n",
       "      <td>99.91</td>\n",
       "      <td>Snow</td>\n",
       "    </tr>\n",
       "    <tr>\n",
       "      <th>8783</th>\n",
       "      <td>12/31/2012 23:00</td>\n",
       "      <td>0.0</td>\n",
       "      <td>-2.1</td>\n",
       "      <td>86</td>\n",
       "      <td>30</td>\n",
       "      <td>11.3</td>\n",
       "      <td>99.89</td>\n",
       "      <td>Snow</td>\n",
       "    </tr>\n",
       "  </tbody>\n",
       "</table>\n",
       "<p>8784 rows × 8 columns</p>\n",
       "</div>"
      ],
      "text/plain": [
       "             Date/Time  Temp_C  Dew Point Temp_C  Rel Hum_%  Wind Speed_km/h  \\\n",
       "0        1/1/2012 0:00    -1.8              -3.9         86                4   \n",
       "1        1/1/2012 1:00    -1.8              -3.7         87                4   \n",
       "2        1/1/2012 2:00    -1.8              -3.4         89                7   \n",
       "3        1/1/2012 3:00    -1.5              -3.2         88                6   \n",
       "4        1/1/2012 4:00    -1.5              -3.3         88                7   \n",
       "...                ...     ...               ...        ...              ...   \n",
       "8779  12/31/2012 19:00     0.1              -2.7         81               30   \n",
       "8780  12/31/2012 20:00     0.2              -2.4         83               24   \n",
       "8781  12/31/2012 21:00    -0.5              -1.5         93               28   \n",
       "8782  12/31/2012 22:00    -0.2              -1.8         89               28   \n",
       "8783  12/31/2012 23:00     0.0              -2.1         86               30   \n",
       "\n",
       "      Visibility_km  Press_kPa               Weather  \n",
       "0               8.0     101.24                   Fog  \n",
       "1               8.0     101.24                   Fog  \n",
       "2               4.0     101.26  Freezing Drizzle,Fog  \n",
       "3               4.0     101.27  Freezing Drizzle,Fog  \n",
       "4               4.8     101.23                   Fog  \n",
       "...             ...        ...                   ...  \n",
       "8779            9.7     100.13                  Snow  \n",
       "8780            9.7     100.03                  Snow  \n",
       "8781            4.8      99.95                  Snow  \n",
       "8782            9.7      99.91                  Snow  \n",
       "8783           11.3      99.89                  Snow  \n",
       "\n",
       "[8784 rows x 8 columns]"
      ]
     },
     "execution_count": 217,
     "metadata": {},
     "output_type": "execute_result"
    }
   ],
   "source": [
    "data"
   ]
  },
  {
   "cell_type": "code",
   "execution_count": 218,
   "id": "b8395ca2",
   "metadata": {},
   "outputs": [
    {
     "data": {
      "text/plain": [
       "array(['Fog', 'Freezing Drizzle,Fog', 'Mostly Cloudy', 'Cloudy', 'Rain',\n",
       "       'Rain Showers', 'Mainly Clear', 'Snow Showers', 'Snow', 'Clear',\n",
       "       'Freezing Rain,Fog', 'Freezing Rain', 'Freezing Drizzle',\n",
       "       'Rain,Snow', 'Moderate Snow', 'Freezing Drizzle,Snow',\n",
       "       'Freezing Rain,Snow Grains', 'Snow,Blowing Snow', 'Freezing Fog',\n",
       "       'Haze', 'Rain,Fog', 'Drizzle,Fog', 'Drizzle',\n",
       "       'Freezing Drizzle,Haze', 'Freezing Rain,Haze', 'Snow,Haze',\n",
       "       'Snow,Fog', 'Snow,Ice Pellets', 'Rain,Haze', 'Thunderstorms,Rain',\n",
       "       'Thunderstorms,Rain Showers', 'Thunderstorms,Heavy Rain Showers',\n",
       "       'Thunderstorms,Rain Showers,Fog', 'Thunderstorms',\n",
       "       'Thunderstorms,Rain,Fog',\n",
       "       'Thunderstorms,Moderate Rain Showers,Fog', 'Rain Showers,Fog',\n",
       "       'Rain Showers,Snow Showers', 'Snow Pellets', 'Rain,Snow,Fog',\n",
       "       'Moderate Rain,Fog', 'Freezing Rain,Ice Pellets,Fog',\n",
       "       'Drizzle,Ice Pellets,Fog', 'Drizzle,Snow', 'Rain,Ice Pellets',\n",
       "       'Drizzle,Snow,Fog', 'Rain,Snow Grains', 'Rain,Snow,Ice Pellets',\n",
       "       'Snow Showers,Fog', 'Moderate Snow,Blowing Snow'], dtype=object)"
      ]
     },
     "execution_count": 218,
     "metadata": {},
     "output_type": "execute_result"
    }
   ],
   "source": [
    "data['Weather'].unique()"
   ]
  },
  {
   "cell_type": "code",
   "execution_count": 219,
   "id": "02ca1891",
   "metadata": {},
   "outputs": [
    {
     "data": {
      "text/plain": [
       "Date/Time           8784\n",
       "Temp_C               533\n",
       "Dew Point Temp_C     489\n",
       "Rel Hum_%             83\n",
       "Wind Speed_km/h       34\n",
       "Visibility_km         24\n",
       "Press_kPa            518\n",
       "Weather               50\n",
       "dtype: int64"
      ]
     },
     "execution_count": 219,
     "metadata": {},
     "output_type": "execute_result"
    }
   ],
   "source": [
    "data.nunique()"
   ]
  },
  {
   "cell_type": "code",
   "execution_count": 220,
   "id": "83056e21",
   "metadata": {},
   "outputs": [
    {
     "data": {
      "text/plain": [
       "Date/Time           8784\n",
       "Temp_C              8784\n",
       "Dew Point Temp_C    8784\n",
       "Rel Hum_%           8784\n",
       "Wind Speed_km/h     8784\n",
       "Visibility_km       8784\n",
       "Press_kPa           8784\n",
       "Weather             8784\n",
       "dtype: int64"
      ]
     },
     "execution_count": 220,
     "metadata": {},
     "output_type": "execute_result"
    }
   ],
   "source": [
    "data.count()"
   ]
  },
  {
   "cell_type": "code",
   "execution_count": 221,
   "id": "f0f047b5",
   "metadata": {},
   "outputs": [
    {
     "data": {
      "text/plain": [
       "Mainly Clear                               2106\n",
       "Mostly Cloudy                              2069\n",
       "Cloudy                                     1728\n",
       "Clear                                      1326\n",
       "Snow                                        390\n",
       "Rain                                        306\n",
       "Rain Showers                                188\n",
       "Fog                                         150\n",
       "Rain,Fog                                    116\n",
       "Drizzle,Fog                                  80\n",
       "Snow Showers                                 60\n",
       "Drizzle                                      41\n",
       "Snow,Fog                                     37\n",
       "Snow,Blowing Snow                            19\n",
       "Rain,Snow                                    18\n",
       "Thunderstorms,Rain Showers                   16\n",
       "Haze                                         16\n",
       "Drizzle,Snow,Fog                             15\n",
       "Freezing Rain                                14\n",
       "Freezing Drizzle,Snow                        11\n",
       "Freezing Drizzle                              7\n",
       "Snow,Ice Pellets                              6\n",
       "Freezing Drizzle,Fog                          6\n",
       "Snow,Haze                                     5\n",
       "Freezing Fog                                  4\n",
       "Snow Showers,Fog                              4\n",
       "Moderate Snow                                 4\n",
       "Rain,Snow,Ice Pellets                         4\n",
       "Freezing Rain,Fog                             4\n",
       "Freezing Drizzle,Haze                         3\n",
       "Rain,Haze                                     3\n",
       "Thunderstorms,Rain                            3\n",
       "Thunderstorms,Rain Showers,Fog                3\n",
       "Freezing Rain,Haze                            2\n",
       "Drizzle,Snow                                  2\n",
       "Rain Showers,Snow Showers                     2\n",
       "Thunderstorms                                 2\n",
       "Moderate Snow,Blowing Snow                    2\n",
       "Rain Showers,Fog                              1\n",
       "Thunderstorms,Moderate Rain Showers,Fog       1\n",
       "Snow Pellets                                  1\n",
       "Rain,Snow,Fog                                 1\n",
       "Moderate Rain,Fog                             1\n",
       "Freezing Rain,Ice Pellets,Fog                 1\n",
       "Drizzle,Ice Pellets,Fog                       1\n",
       "Thunderstorms,Rain,Fog                        1\n",
       "Rain,Ice Pellets                              1\n",
       "Rain,Snow Grains                              1\n",
       "Thunderstorms,Heavy Rain Showers              1\n",
       "Freezing Rain,Snow Grains                     1\n",
       "Name: Weather, dtype: int64"
      ]
     },
     "execution_count": 221,
     "metadata": {},
     "output_type": "execute_result"
    }
   ],
   "source": [
    "data['Weather'].value_counts()"
   ]
  },
  {
   "cell_type": "code",
   "execution_count": 222,
   "id": "f3ae669b",
   "metadata": {},
   "outputs": [
    {
     "name": "stdout",
     "output_type": "stream",
     "text": [
      "<class 'pandas.core.frame.DataFrame'>\n",
      "RangeIndex: 8784 entries, 0 to 8783\n",
      "Data columns (total 8 columns):\n",
      " #   Column            Non-Null Count  Dtype  \n",
      "---  ------            --------------  -----  \n",
      " 0   Date/Time         8784 non-null   object \n",
      " 1   Temp_C            8784 non-null   float64\n",
      " 2   Dew Point Temp_C  8784 non-null   float64\n",
      " 3   Rel Hum_%         8784 non-null   int64  \n",
      " 4   Wind Speed_km/h   8784 non-null   int64  \n",
      " 5   Visibility_km     8784 non-null   float64\n",
      " 6   Press_kPa         8784 non-null   float64\n",
      " 7   Weather           8784 non-null   object \n",
      "dtypes: float64(4), int64(2), object(2)\n",
      "memory usage: 549.1+ KB\n"
     ]
    }
   ],
   "source": [
    "data.info()"
   ]
  },
  {
   "cell_type": "code",
   "execution_count": null,
   "id": "3164ad77",
   "metadata": {},
   "outputs": [],
   "source": []
  }
 ],
 "metadata": {
  "kernelspec": {
   "display_name": "Python 3 (ipykernel)",
   "language": "python",
   "name": "python3"
  },
  "language_info": {
   "codemirror_mode": {
    "name": "ipython",
    "version": 3
   },
   "file_extension": ".py",
   "mimetype": "text/x-python",
   "name": "python",
   "nbconvert_exporter": "python",
   "pygments_lexer": "ipython3",
   "version": "3.10.6"
  }
 },
 "nbformat": 4,
 "nbformat_minor": 5
}
